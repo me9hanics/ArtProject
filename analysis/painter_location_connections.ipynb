{
 "cells": [
  {
   "cell_type": "markdown",
   "metadata": {},
   "source": [
    "# Connecting painters based on their locations throughout time"
   ]
  },
  {
   "cell_type": "markdown",
   "metadata": {},
   "source": [
    "## Imports, initial procedures"
   ]
  },
  {
   "cell_type": "code",
   "execution_count": 2,
   "metadata": {},
   "outputs": [],
   "source": [
    "import numpy as np\n",
    "import pandas as pd\n",
    "import seaborn as sns\n",
    "import matplotlib.pyplot as plt\n",
    "import networkx as nx\n",
    "\n",
    "url = \"https://raw.githubusercontent.com/me9hanics/PainterPalette/main/PainterPalette.csv\"\n",
    "artists = pd.read_csv(url).drop(columns=[\"Type\", \"Contemporary\"])#Type and contemporary are \"artificial\" columns"
   ]
  },
  {
   "cell_type": "code",
   "execution_count": 2,
   "metadata": {},
   "outputs": [
    {
     "data": {
      "text/html": [
       "<div>\n",
       "<style scoped>\n",
       "    .dataframe tbody tr th:only-of-type {\n",
       "        vertical-align: middle;\n",
       "    }\n",
       "\n",
       "    .dataframe tbody tr th {\n",
       "        vertical-align: top;\n",
       "    }\n",
       "\n",
       "    .dataframe thead th {\n",
       "        text-align: right;\n",
       "    }\n",
       "</style>\n",
       "<table border=\"1\" class=\"dataframe\">\n",
       "  <thead>\n",
       "    <tr style=\"text-align: right;\">\n",
       "      <th></th>\n",
       "      <th>artist</th>\n",
       "      <th>Nationality</th>\n",
       "      <th>citizenship</th>\n",
       "      <th>gender</th>\n",
       "      <th>styles</th>\n",
       "      <th>movement</th>\n",
       "      <th>Art500k_Movements</th>\n",
       "      <th>birth_place</th>\n",
       "      <th>death_place</th>\n",
       "      <th>birth_year</th>\n",
       "      <th>...</th>\n",
       "      <th>occupations</th>\n",
       "      <th>PaintingsExhibitedAt</th>\n",
       "      <th>PaintingsExhibitedAtCount</th>\n",
       "      <th>PaintingSchool</th>\n",
       "      <th>Influencedby</th>\n",
       "      <th>Influencedon</th>\n",
       "      <th>Pupils</th>\n",
       "      <th>Teachers</th>\n",
       "      <th>FriendsandCoworkers</th>\n",
       "      <th>ArtMovement</th>\n",
       "    </tr>\n",
       "  </thead>\n",
       "  <tbody>\n",
       "    <tr>\n",
       "      <th>10</th>\n",
       "      <td>Friedrich Schroder-Sonnenstern</td>\n",
       "      <td>German</td>\n",
       "      <td>Germany</td>\n",
       "      <td>male</td>\n",
       "      <td>Art Brut</td>\n",
       "      <td>Outsider art (Art brut)</td>\n",
       "      <td>{Outsider art (Art brut):10}</td>\n",
       "      <td>Sovetsk</td>\n",
       "      <td>Berlin</td>\n",
       "      <td>1892.0</td>\n",
       "      <td>...</td>\n",
       "      <td>painter, drawer</td>\n",
       "      <td>NaN</td>\n",
       "      <td>NaN</td>\n",
       "      <td>NaN</td>\n",
       "      <td>NaN</td>\n",
       "      <td>NaN</td>\n",
       "      <td>NaN</td>\n",
       "      <td>NaN</td>\n",
       "      <td>NaN</td>\n",
       "      <td>NaN</td>\n",
       "    </tr>\n",
       "    <tr>\n",
       "      <th>11</th>\n",
       "      <td>D. Jeffrey Mims</td>\n",
       "      <td>American</td>\n",
       "      <td>United States of America</td>\n",
       "      <td>male</td>\n",
       "      <td>Contemporary Realism</td>\n",
       "      <td>Classical Realism</td>\n",
       "      <td>{Classical Realism:10}</td>\n",
       "      <td>North Carolina</td>\n",
       "      <td>NaN</td>\n",
       "      <td>1954.0</td>\n",
       "      <td>...</td>\n",
       "      <td>painter, politician</td>\n",
       "      <td>NaN</td>\n",
       "      <td>NaN</td>\n",
       "      <td>NaN</td>\n",
       "      <td>NaN</td>\n",
       "      <td>NaN</td>\n",
       "      <td>NaN</td>\n",
       "      <td>NaN</td>\n",
       "      <td>NaN</td>\n",
       "      <td>NaN</td>\n",
       "    </tr>\n",
       "    <tr>\n",
       "      <th>12</th>\n",
       "      <td>Nuno Gonçalves</td>\n",
       "      <td>Portuguese</td>\n",
       "      <td>Kingdom of Portugal</td>\n",
       "      <td>male</td>\n",
       "      <td>Early Renaissance</td>\n",
       "      <td>Early Renaissance</td>\n",
       "      <td>{Early Renaissance:10}</td>\n",
       "      <td>NaN</td>\n",
       "      <td>NaN</td>\n",
       "      <td>1425.0</td>\n",
       "      <td>...</td>\n",
       "      <td>portraitist, painter, musician, researcher</td>\n",
       "      <td>Lisbon, Portugal</td>\n",
       "      <td>{Lisbon:1},{Portugal:1}</td>\n",
       "      <td>NaN</td>\n",
       "      <td>National Museum of Ancient Art (MNAA), Lisbon,...</td>\n",
       "      <td>NaN</td>\n",
       "      <td>NaN</td>\n",
       "      <td>NaN</td>\n",
       "      <td>NaN</td>\n",
       "      <td>NaN</td>\n",
       "    </tr>\n",
       "    <tr>\n",
       "      <th>13</th>\n",
       "      <td>Alexander Khvostenko-Khvostov</td>\n",
       "      <td>Russian,Ukrainian</td>\n",
       "      <td>Russian Empire</td>\n",
       "      <td>male</td>\n",
       "      <td>Art Nouveau (Modern), Constructivism, Expressi...</td>\n",
       "      <td>Avant-garde</td>\n",
       "      <td>{Avant-garde,Constructivism:21}</td>\n",
       "      <td>Borisovka, Borisovsky District, Belgorod Oblast</td>\n",
       "      <td>Kyiv</td>\n",
       "      <td>1885.0</td>\n",
       "      <td>...</td>\n",
       "      <td>visual artist, scenographer, graphic artist, p...</td>\n",
       "      <td>NaN</td>\n",
       "      <td>NaN</td>\n",
       "      <td>ARMU (Association of Revolutionary Masters of ...</td>\n",
       "      <td>NaN</td>\n",
       "      <td>NaN</td>\n",
       "      <td>NaN</td>\n",
       "      <td>Aleksandra Ekster,</td>\n",
       "      <td>Victor Palmov,David Burliuk,Oleksandr Bogomazo...</td>\n",
       "      <td>NaN</td>\n",
       "    </tr>\n",
       "    <tr>\n",
       "      <th>14</th>\n",
       "      <td>Jose Ferraz de Almeida Junior</td>\n",
       "      <td>Brazilian</td>\n",
       "      <td>Brazil</td>\n",
       "      <td>male</td>\n",
       "      <td>Academicism, Realism</td>\n",
       "      <td>Realism</td>\n",
       "      <td>{Realism:64}</td>\n",
       "      <td>Itu</td>\n",
       "      <td>Piracicaba</td>\n",
       "      <td>1850.0</td>\n",
       "      <td>...</td>\n",
       "      <td>painter</td>\n",
       "      <td>Brazil, Rio de Janeiro, Sao Paulo</td>\n",
       "      <td>{Sao Paulo:30},{Brazil:36},{Rio de Janeiro:4}</td>\n",
       "      <td>NaN</td>\n",
       "      <td>NaN</td>\n",
       "      <td>NaN</td>\n",
       "      <td>NaN</td>\n",
       "      <td>NaN</td>\n",
       "      <td>NaN</td>\n",
       "      <td>NaN</td>\n",
       "    </tr>\n",
       "  </tbody>\n",
       "</table>\n",
       "<p>5 rows × 29 columns</p>\n",
       "</div>"
      ],
      "text/plain": [
       "                            artist        Nationality  \\\n",
       "10  Friedrich Schroder-Sonnenstern             German   \n",
       "11                 D. Jeffrey Mims           American   \n",
       "12                 Nuno Gonçalves         Portuguese   \n",
       "13   Alexander Khvostenko-Khvostov  Russian,Ukrainian   \n",
       "14   Jose Ferraz de Almeida Junior          Brazilian   \n",
       "\n",
       "                 citizenship gender  \\\n",
       "10                   Germany   male   \n",
       "11  United States of America   male   \n",
       "12       Kingdom of Portugal   male   \n",
       "13            Russian Empire   male   \n",
       "14                    Brazil   male   \n",
       "\n",
       "                                               styles  \\\n",
       "10                                           Art Brut   \n",
       "11                               Contemporary Realism   \n",
       "12                                  Early Renaissance   \n",
       "13  Art Nouveau (Modern), Constructivism, Expressi...   \n",
       "14                               Academicism, Realism   \n",
       "\n",
       "                   movement                Art500k_Movements  \\\n",
       "10  Outsider art (Art brut)     {Outsider art (Art brut):10}   \n",
       "11        Classical Realism           {Classical Realism:10}   \n",
       "12        Early Renaissance           {Early Renaissance:10}   \n",
       "13              Avant-garde  {Avant-garde,Constructivism:21}   \n",
       "14                  Realism                     {Realism:64}   \n",
       "\n",
       "                                        birth_place death_place  birth_year  \\\n",
       "10                                          Sovetsk      Berlin      1892.0   \n",
       "11                                   North Carolina         NaN      1954.0   \n",
       "12                                              NaN         NaN      1425.0   \n",
       "13  Borisovka, Borisovsky District, Belgorod Oblast        Kyiv      1885.0   \n",
       "14                                              Itu  Piracicaba      1850.0   \n",
       "\n",
       "    ...                                        occupations  \\\n",
       "10  ...                                    painter, drawer   \n",
       "11  ...                                painter, politician   \n",
       "12  ...         portraitist, painter, musician, researcher   \n",
       "13  ...  visual artist, scenographer, graphic artist, p...   \n",
       "14  ...                                            painter   \n",
       "\n",
       "                 PaintingsExhibitedAt  \\\n",
       "10                                NaN   \n",
       "11                                NaN   \n",
       "12                   Lisbon, Portugal   \n",
       "13                                NaN   \n",
       "14  Brazil, Rio de Janeiro, Sao Paulo   \n",
       "\n",
       "                        PaintingsExhibitedAtCount  \\\n",
       "10                                            NaN   \n",
       "11                                            NaN   \n",
       "12                        {Lisbon:1},{Portugal:1}   \n",
       "13                                            NaN   \n",
       "14  {Sao Paulo:30},{Brazil:36},{Rio de Janeiro:4}   \n",
       "\n",
       "                                       PaintingSchool  \\\n",
       "10                                                NaN   \n",
       "11                                                NaN   \n",
       "12                                                NaN   \n",
       "13  ARMU (Association of Revolutionary Masters of ...   \n",
       "14                                                NaN   \n",
       "\n",
       "                                         Influencedby Influencedon Pupils  \\\n",
       "10                                                NaN          NaN    NaN   \n",
       "11                                                NaN          NaN    NaN   \n",
       "12  National Museum of Ancient Art (MNAA), Lisbon,...          NaN    NaN   \n",
       "13                                                NaN          NaN    NaN   \n",
       "14                                                NaN          NaN    NaN   \n",
       "\n",
       "              Teachers                                FriendsandCoworkers  \\\n",
       "10                 NaN                                                NaN   \n",
       "11                 NaN                                                NaN   \n",
       "12                 NaN                                                NaN   \n",
       "13  Aleksandra Ekster,  Victor Palmov,David Burliuk,Oleksandr Bogomazo...   \n",
       "14                 NaN                                                NaN   \n",
       "\n",
       "   ArtMovement  \n",
       "10         NaN  \n",
       "11         NaN  \n",
       "12         NaN  \n",
       "13         NaN  \n",
       "14         NaN  \n",
       "\n",
       "[5 rows x 29 columns]"
      ]
     },
     "execution_count": 2,
     "metadata": {},
     "output_type": "execute_result"
    }
   ],
   "source": [
    "artists[10:15]"
   ]
  },
  {
   "cell_type": "code",
   "execution_count": 13,
   "metadata": {},
   "outputs": [
    {
     "data": {
      "text/plain": [
       "Index(['artist', 'Nationality', 'citizenship', 'gender', 'styles', 'movement',\n",
       "       'Art500k_Movements', 'birth_place', 'death_place', 'birth_year',\n",
       "       'death_year', 'FirstYear', 'LastYear', 'wikiart_pictures_count',\n",
       "       'locations', 'locations_with_years', 'styles_extended', 'StylesCount',\n",
       "       'StylesYears', 'occupations', 'PaintingsExhibitedAt',\n",
       "       'PaintingsExhibitedAtCount', 'PaintingSchool', 'Influencedby',\n",
       "       'Influencedon', 'Pupils', 'Teachers', 'FriendsandCoworkers',\n",
       "       'ArtMovement'],\n",
       "      dtype='object')"
      ]
     },
     "execution_count": 13,
     "metadata": {},
     "output_type": "execute_result"
    }
   ],
   "source": [
    "artists.columns"
   ]
  },
  {
   "cell_type": "markdown",
   "metadata": {},
   "source": [
    "We need only the locations (possibly exhibitions) of painters"
   ]
  },
  {
   "cell_type": "markdown",
   "metadata": {},
   "source": [
    "## Analysis:"
   ]
  },
  {
   "cell_type": "markdown",
   "metadata": {},
   "source": [
    "### \"Time-and-place\" painters network:\n",
    "\n",
    "To connect painters based on their locations, I created a time \"index\" (measure of similarity) and a place index for each painter pair, and if these values and their product are higher than given thresholds, then a link is created between to painters.\n",
    "\n",
    "The main attributes:\n",
    "\n",
    "- place of birth\n",
    "- places\n",
    "- places by years\n",
    "- nationality\n",
    "- years of birth, first and last painting's year in the dataset"
   ]
  },
  {
   "cell_type": "code",
   "execution_count": 3,
   "metadata": {},
   "outputs": [],
   "source": [
    "import httpimport\n",
    "\n",
    "with httpimport.remote_repo('https://raw.githubusercontent.com/me9hanics/ArtProject/main/'):\n",
    "    import analysis_functions"
   ]
  },
  {
   "cell_type": "markdown",
   "metadata": {},
   "source": [
    "**Year index between two artists:**\n",
    "\n",
    "Measure of how close two artists were in time. The closer they were, the higher the value. The value is calculated as follows:<br>\n",
    "Firstly, count the number of years the two artists were alive at the same time (called count). For either artist, if a year is between his birthyear and first year of painting appearing in the dataset, instead of adding 1 year to the count, we add 0.1 (and in the case when this is true for both artists, add 0.01 instead).<br>\n",
    "In the end, we divide the count by the lifespan of the artist who lived less. This is because if we just took the average of the two  painters' lifespan, painters who lived for a longer time would have too many high indices. Sure, we can say that a painter who lived longer likely met more painters, but just this is not the point, the point is rather that if you take a painter who lived for a short time and a painter who lived for a long time, the longer living painter's lengthy lifetime typically shouldn't be a factor of the probability of the shorter living painter meeting him. Painter X who died at age 30 and had a 10-year span to meet other painters is equally likely to have met Painter Y who lived for 10 years more after Painter X's death, as Painter Z who lived for 30 more years after Painter X died. The increase of amount of painters met should only come from having longer overlapping periods with more artists (from living longer). On the other hand, lifespan should somehow be also accounted, because if not (if we just divide by a number like 100, or don't divide at all), short living painters (like the short-lived Viennese Egon Schiele, who is a very influential painter despite having lived only 28 years) would have likely no connections in the graph, which is why their age should be accounted for somehow. This is why we divide by the shorter living painter's lifespan, which is still enough to have that longer living painters have more connections.<br>"
   ]
  },
  {
   "cell_type": "markdown",
   "metadata": {},
   "source": [
    "**Place index between two artists:**\n",
    "\n",
    "Measure for how close are two artists to each other in terms of places they lived/painted in and nationality. Originally, birthplace was also a factor, but it uses GeoPy's Nominatim, and running it on the full data tends to make it time out. <br>\n",
    "\n",
    "<details> <summary><u>Function for birthplaces</u></summary>\n",
    "\n",
    "```python\n",
    "\n",
    "from geopy.geocoders import Nominatim    \n",
    "geolocator = Nominatim(user_agent=\"PainterProject\")\n",
    "\n",
    "# Function to get the country from a birthplace\n",
    "def get_country(birthplace):\n",
    "    location = geolocator.geocode(birthplace)\n",
    "    if location:\n",
    "        return location.address.split(\",\")[-1].strip()\n",
    "    return None\n",
    "\n",
    "```\n",
    "\n",
    "</details>"
   ]
  },
  {
   "cell_type": "markdown",
   "metadata": {},
   "source": [
    "Finally create the time and place network:"
   ]
  },
  {
   "cell_type": "code",
   "execution_count": 4,
   "metadata": {},
   "outputs": [],
   "source": [
    "import ast #string to list/dict functionality is included in it"
   ]
  },
  {
   "cell_type": "code",
   "execution_count": 5,
   "metadata": {},
   "outputs": [],
   "source": [
    "import numpy as np\n",
    "\n",
    "def years_fixer(years): #Birth, first active year, last active year, death\n",
    "    if np.isnan(years[0]) and np.isnan(years[1]):\n",
    "        return np.nan\n",
    "    if np.isnan(years[2]) and np.isnan(years[3]):\n",
    "        return np.nan\n",
    "    \n",
    "    if np.isnan(years[0]):\n",
    "        years[0] = years[1]-20\n",
    "    if np.isnan(years[1]):\n",
    "        years[1] = years[0]+20\n",
    "    if np.isnan(years[2]):\n",
    "        years[2] = years[3]\n",
    "    if np.isnan(years[3]):\n",
    "        years[3] = years[2]\n",
    "\n",
    "    #Sort just in case\n",
    "    return sorted(years)"
   ]
  },
  {
   "cell_type": "markdown",
   "metadata": {},
   "source": [
    "Precomputing (lookup speed could be faster than computing in each step, because dicts are faster than (Pandas) dataframes etc.):"
   ]
  },
  {
   "cell_type": "code",
   "execution_count": 6,
   "metadata": {},
   "outputs": [],
   "source": [
    "#Geographical / time data\n",
    "#['birth_place', 'death_place', 'Nationality','locations','locations_with_years' , 'birth_year','death_year' , 'FirstYear','LastYear','citizenship']\n",
    "\n",
    "#Artist data instances (pandas series)\n",
    "artist_data = {artist: artists[artists['artist']==artist].iloc[0] for artist in artists['artist']}\n",
    "\n",
    "#Birthyear, first active year (Art500k), last active year, death year\n",
    "years = {artist: years_fixer([data['birth_year'], data['FirstYear'], data['LastYear'], data['death_year']]) for artist, data in artist_data.items()}\n",
    "\n",
    "nationalities = {artist: np.nan if type(data['Nationality']) != str\n",
    "                 else data['Nationality'].split(\",\") for artist, data in artist_data.items()}\n",
    "places = {artist: [] if pd.isnull(data['locations'])\n",
    "          else ast.literal_eval(data['locations']) for artist, data in artist_data.items()}#Literal eval to convert string to list"
   ]
  },
  {
   "cell_type": "code",
   "execution_count": 7,
   "metadata": {},
   "outputs": [],
   "source": [
    "import itertools\n",
    "G0 = nx.Graph(); G0.add_nodes_from(artists['artist'])\n",
    "\n",
    "#Appearantly, itertools.combinations is faster than nested for loops (probably because you precalculate the combinations)\n",
    "for artist1, artist2 in itertools.combinations(artists['artist'], 2):\n",
    "    artist1_data = artist_data[artist1]\n",
    "    artist2_data = artist_data[artist2]\n",
    "    \n",
    "    years1 = years[artist1]\n",
    "    years2 = years[artist2]\n",
    "    \n",
    "    if type(years1) != list or type(years2) != list: #np.nan\n",
    "        continue\n",
    "\n",
    "    birthplace1 = artist1_data[\"birth_place\"]\n",
    "    birthplace2 = artist2_data[\"birth_place\"]\n",
    "    \n",
    "    nationalities1 = nationalities[artist1]\n",
    "    nationalities2 = nationalities[artist2]\n",
    "    \n",
    "    citizenship1 = artist1_data['citizenship']\n",
    "    citizenship2 = artist2_data['citizenship']\n",
    "    \n",
    "    places1_list = places[artist1]\n",
    "    places2_list = places[artist2]\n",
    "    \n",
    "    index_val = analysis_functions.index_simple(places1_list, places2_list, years1, years2, birthplace1, birthplace2, nationalities1, nationalities2, citizenship1, citizenship2, active_years_only=True)\n",
    "    \n",
    "    if (index_val > 0):\n",
    "        G0.add_edge(artist1, artist2, weight=index_val)\n",
    "        nx.set_edge_attributes(G0, {(artist1, artist2): index_val}, 'index_value')"
   ]
  },
  {
   "cell_type": "code",
   "execution_count": 8,
   "metadata": {},
   "outputs": [],
   "source": [
    "#Save G0 as a gexf file\n",
    "nx.write_gexf(G0, \"../networks/painter_location_graph.gexf\")\n",
    "nx.write_graphml(G0, \"../networks/painter_location_graph.graphml\")"
   ]
  },
  {
   "cell_type": "code",
   "execution_count": 9,
   "metadata": {},
   "outputs": [
    {
     "name": "stdout",
     "output_type": "stream",
     "text": [
      "Number of nodes:  10549\n",
      "Number of edges:  422861\n"
     ]
    }
   ],
   "source": [
    "#Print number of nodes and edges\n",
    "print(\"Number of nodes: \", G0.number_of_nodes())\n",
    "print(\"Number of edges: \", G0.number_of_edges())"
   ]
  },
  {
   "cell_type": "code",
   "execution_count": 15,
   "metadata": {},
   "outputs": [],
   "source": [
    "edge_weights_list = sorted([G0[u][v]['weight'] for u,v in G0.edges])"
   ]
  },
  {
   "cell_type": "code",
   "execution_count": 31,
   "metadata": {},
   "outputs": [
    {
     "data": {
      "text/plain": [
       "<matplotlib.lines.Line2D at 0x2b9d5af16c0>"
      ]
     },
     "execution_count": 31,
     "metadata": {},
     "output_type": "execute_result"
    },
    {
     "data": {
      "image/png": "[encoded data removed]",
      "text/plain": [
       "<Figure size 1000x600 with 1 Axes>"
      ]
     },
     "metadata": {},
     "output_type": "display_data"
    }
   ],
   "source": [
    "#Plot: for different threshold, how many edges would we have if we only consider edges with weight above that threshold\n",
    "plt.figure(figsize=(10,6))\n",
    "for i in np.logspace(-2.4, 2.55, 1000):\n",
    "    more_than_threshold = sum([1 for weight in edge_weights_list if weight >= i])\n",
    "    plt.scatter(i, more_than_threshold, color='blue')\n",
    "\n",
    "plt.yscale('log')\n",
    "plt.xscale('log')\n",
    "plt.axvline(x=20, color='red', linestyle='--')"
   ]
  },
  {
   "cell_type": "code",
   "execution_count": 32,
   "metadata": {},
   "outputs": [
    {
     "data": {
      "text/plain": [
       "74981"
      ]
     },
     "execution_count": 32,
     "metadata": {},
     "output_type": "execute_result"
    }
   ],
   "source": [
    "sum([1 for weight in edge_weights_list if weight >= 20])"
   ]
  },
  {
   "cell_type": "code",
   "execution_count": 37,
   "metadata": {},
   "outputs": [
    {
     "data": {
      "image/png": "[encoded data removed]",
      "text/plain": [
       "<Figure size 1000x600 with 1 Axes>"
      ]
     },
     "metadata": {},
     "output_type": "display_data"
    }
   ],
   "source": [
    "#Percolation plot: for different threshold, how many nodes are there in the largest connected component?\n",
    "plt.figure(figsize=(10,6))\n",
    "for i in np.logspace(-2.4, 2.55, 1000):\n",
    "    G0_copy = G0.copy()\n",
    "    for u,v in G0_copy.edges:\n",
    "        if G0_copy[u][v]['weight'] < i:\n",
    "            G0_copy.remove_edge(u,v)\n",
    "    components = list(nx.connected_components(G0_copy))\n",
    "    largest_component = max(components, key=len)\n",
    "    plt.scatter(i, len(largest_component), color='blue')\n",
    "\n",
    "plt.yscale('log')\n",
    "plt.xscale('log')"
   ]
  },
  {
   "cell_type": "code",
   "execution_count": 34,
   "metadata": {},
   "outputs": [
    {
     "name": "stdout",
     "output_type": "stream",
     "text": [
      "Min edge weight:  0.004545454545454545\n",
      "Max edge weight:  349.59999999999997\n"
     ]
    }
   ],
   "source": [
    "#Min and max edge weights\n",
    "print(\"Min edge weight: \", min([G0.edges[edge]['weight'] for edge in G0.edges]))\n",
    "print(\"Max edge weight: \", max([G0.edges[edge]['weight'] for edge in G0.edges]))"
   ]
  },
  {
   "cell_type": "code",
   "execution_count": 36,
   "metadata": {},
   "outputs": [
    {
     "name": "stdout",
     "output_type": "stream",
     "text": [
      "Sarah Purser and Robert Hunter 349.59999999999997\n",
      "Man and Vettor Pisani 345.3333333333333\n",
      "Tintoretto and Vettor Pisani 326.59999999999997\n",
      "Corneille and Man 301.25\n",
      "Arthur Hughes and William Shakespeare Burton 294.4\n",
      "Leon Wyczółkowski and Leon Wyczolkowski 289.79999999999995\n",
      "Louis Carrogis and Antoine de Marcenay de Ghuy 289.79999999999995\n",
      "Dusan Dzamonja and Dušan Džamonja 285.2\n",
      "Eduard von Gebhardt and Eduard Von Gebhardt 266.79999999999995\n",
      "Felix Nadar and Nadar 266.79999999999995\n",
      "Jean Baptiste Claude Odiot and Adèle Romany 266.79999999999995\n",
      "Marcus Stone and William Shakespeare Burton 262.2\n",
      "Antoine-François Callet and Felix Lecomte 262.2\n",
      "Richard Avedon and Paul Cadmus 262.2\n",
      "Jean Victor Bertin and Jean Baptiste Claude Odiot 257.59999999999997\n",
      "Samuel De Wilde and James Heath 257.59999999999997\n",
      "Isaac Walraven and Paulus Bramer 257.59999999999997\n",
      "Girolamo Forabosco and Vettor Pisani 257.59999999999997\n",
      "Corneille and Joseph Charles Marin 255.85\n",
      "Arthur Hughes and Marcus Stone 254.79999999999995\n",
      "Anne Vallayer-Coster and Antoine-François Callet 252.99999999999997\n",
      "Johan Braakensiek and Petrus Johannes Arendzen 252.99999999999997\n",
      "Charles Thévenin and Jean Baptiste Claude Odiot 252.99999999999997\n",
      "James Heath and John Penn 252.99999999999997\n",
      "Antoine de Marcenay de Ghuy and Felix Lecomte 252.99999999999997\n",
      "Jurriaan Cootwijck and Jan van Jagen 252.0\n",
      "Francesco Guardi and Vettor Pisani 248.39999999999998\n",
      "Anne Vallayer-Coster and Felix Lecomte 248.39999999999998\n",
      "Jean Victor Bertin and Adèle Romany 248.39999999999998\n",
      "Samuel De Wilde and John Penn 243.79999999999998\n",
      "Anton Maria Zanetti II and Vettor Pisani 243.79999999999998\n",
      "Corneille and Metzinger 242.125\n",
      "Jean Victor Bertin and Charles Thévenin 239.2\n",
      "Antoine-François Callet and Antoine de Marcenay de Ghuy 234.6\n",
      "Jean Baptiste Claude Odiot and Chauffourier 234.6\n",
      "Giovanni (Nino) Costa and Giovanni Costa 232.0\n",
      "Jacobus Carrenhoff and Jan Dasveldt 232.0\n",
      "Adriaen van Ostade and Willem Claesz. Heda 231.14999999999998\n",
      "Philibert-Louis Debucourt and Jean Baptiste Claude Odiot 229.99999999999997\n",
      "Hokusai and Utagawa Kuniyoshi 229.99999999999997\n",
      "Louis Carrogis and Felix Lecomte 229.99999999999997\n",
      "Charles Thévenin and Adèle Romany 229.99999999999997\n",
      "Philibert-Louis Debucourt and Antoine-François Callet 225.39999999999998\n",
      "Philibert-Louis Debucourt and Charles Thévenin 225.39999999999998\n",
      "Eduard Isaac Asser and Dirk Jurriaan Sluyter 224.0\n",
      "Jan van Jagen and Pieter Yver 224.0\n",
      "Anne Vallayer-Coster and Antoine de Marcenay de Ghuy 220.79999999999998\n",
      "Pieter de Jode I and Erasmus Quellinus (II) 220.79999999999998\n",
      "Antoine-François Callet and Chauffourier 217.35\n",
      "Do Ho Suh and Richard Yee 216.25\n"
     ]
    }
   ],
   "source": [
    "#Print top 25 edge weights\n",
    "sorted_edges = sorted(G0.edges(data=True), key=lambda x: x[2]['weight'], reverse=True)\n",
    "for edge in sorted_edges[:50]:\n",
    "    print(edge[0],\"and\", edge[1], edge[2]['weight'])\n",
    "    "
   ]
  },
  {
   "cell_type": "code",
   "execution_count": 22,
   "metadata": {},
   "outputs": [],
   "source": [
    "cols = ['artist','birth_place', 'death_place', 'locations', 'birth_year', 'death_year', 'FirstYear', 'LastYear']"
   ]
  },
  {
   "cell_type": "code",
   "execution_count": 30,
   "metadata": {},
   "outputs": [
    {
     "data": {
      "text/html": [
       "<div>\n",
       "<style scoped>\n",
       "    .dataframe tbody tr th:only-of-type {\n",
       "        vertical-align: middle;\n",
       "    }\n",
       "\n",
       "    .dataframe tbody tr th {\n",
       "        vertical-align: top;\n",
       "    }\n",
       "\n",
       "    .dataframe thead th {\n",
       "        text-align: right;\n",
       "    }\n",
       "</style>\n",
       "<table border=\"1\" class=\"dataframe\">\n",
       "  <thead>\n",
       "    <tr style=\"text-align: right;\">\n",
       "      <th></th>\n",
       "      <th>artist</th>\n",
       "      <th>birth_place</th>\n",
       "      <th>death_place</th>\n",
       "      <th>locations</th>\n",
       "      <th>birth_year</th>\n",
       "      <th>death_year</th>\n",
       "      <th>FirstYear</th>\n",
       "      <th>LastYear</th>\n",
       "    </tr>\n",
       "  </thead>\n",
       "  <tbody>\n",
       "    <tr>\n",
       "      <th>8215</th>\n",
       "      <td>Jean Baptiste Claude Odiot</td>\n",
       "      <td>Paris</td>\n",
       "      <td>Paris</td>\n",
       "      <td>['Paris']</td>\n",
       "      <td>1763.0</td>\n",
       "      <td>1850.0</td>\n",
       "      <td>NaN</td>\n",
       "      <td>NaN</td>\n",
       "    </tr>\n",
       "    <tr>\n",
       "      <th>8249</th>\n",
       "      <td>Charles Nicolas Odiot</td>\n",
       "      <td>Paris</td>\n",
       "      <td>8th arrondissement of Paris</td>\n",
       "      <td>[]</td>\n",
       "      <td>1789.0</td>\n",
       "      <td>1868.0</td>\n",
       "      <td>NaN</td>\n",
       "      <td>NaN</td>\n",
       "    </tr>\n",
       "    <tr>\n",
       "      <th>10171</th>\n",
       "      <td>Adèle Romany</td>\n",
       "      <td>Paris</td>\n",
       "      <td>Paris</td>\n",
       "      <td>['Paris']</td>\n",
       "      <td>1769.0</td>\n",
       "      <td>1846.0</td>\n",
       "      <td>NaN</td>\n",
       "      <td>NaN</td>\n",
       "    </tr>\n",
       "  </tbody>\n",
       "</table>\n",
       "</div>"
      ],
      "text/plain": [
       "                           artist birth_place                  death_place  \\\n",
       "8215   Jean Baptiste Claude Odiot       Paris                        Paris   \n",
       "8249        Charles Nicolas Odiot       Paris  8th arrondissement of Paris   \n",
       "10171                Adèle Romany       Paris                        Paris   \n",
       "\n",
       "       locations  birth_year  death_year  FirstYear  LastYear  \n",
       "8215   ['Paris']      1763.0      1850.0        NaN       NaN  \n",
       "8249          []      1789.0      1868.0        NaN       NaN  \n",
       "10171  ['Paris']      1769.0      1846.0        NaN       NaN  "
      ]
     },
     "execution_count": 30,
     "metadata": {},
     "output_type": "execute_result"
    }
   ],
   "source": [
    "artists[(artists['artist'].str.contains(\"Odiot\")) | (artists['artist'] == \"Adèle Romany\")][cols]"
   ]
  }
 ],
 "metadata": {
  "kernelspec": {
   "display_name": "Python 3",
   "language": "python",
   "name": "python3"
  },
  "language_info": {
   "codemirror_mode": {
    "name": "ipython",
    "version": 3
   },
   "file_extension": ".py",
   "mimetype": "text/x-python",
   "name": "python",
   "nbconvert_exporter": "python",
   "pygments_lexer": "ipython3",
   "version": "3.10.11"
  }
 },
 "nbformat": 4,
 "nbformat_minor": 2
}
