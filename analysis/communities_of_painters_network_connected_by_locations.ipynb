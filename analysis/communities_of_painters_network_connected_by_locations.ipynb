{
 "cells": [
  {
   "cell_type": "markdown",
   "metadata": {},
   "source": [
    "# Analysis of network of painters based on their locations throughout time"
   ]
  },
  {
   "cell_type": "markdown",
   "metadata": {},
   "source": [
    "<u> **Description:**</u> The work contained in this notebook is part of a bigger project, only containing the construction of a painter network based on locations of painters throughout years, and analyzing, visualizing this network. The project includes gathering and cleaning data of painters, possibly the hardest task (and unfinished, e.g. same-painter with different alias instances still need to be combined) which I store in the GitHub repository [PainterPalette](https://github.com/me9hanics/PainterPalette), and some other analysis of styles, movements, static and dynamic networks of painters, stored under GitHub [ArtProject](https://github.com/me9hanics/ArtProject). We will only build on the first one, we use the painters stored in the `artists.csv` file.<br>\n",
    "We have information on ~10000 painters from the 11th century (even before, but with nearly no info) to the 21st, their locations, time data, gender, nationality, how many artworks they painted per style, what movement they belonged to, a list of some of the painters who influenced them and who they influenced, the school they studied at and friends and coworkers. \n",
    "\n",
    "In this particular work, I wanted to gain insights about what common properties do painters have, that were connected by living at the same places at the same time (roughly, temporal data is sparse so I had to make compromises). Are these communities fairly even in percentage of females, or vary a lot? From very simple analysis before, we found that centuries ago the surroundings of a painter pretty much determined his/her artistic style too (social contagion). As transportation infrastructure developed (assumably that is the reason), the various styles started spreading more, and while location (in time) used to be a good indicator of an artistic style, it does not have as much of an impact anymore. <br>\n",
    "I aim to find similar findings, by analyzing the communities directly in such a network. The final community structure, with some explanation will be a visualized nested blockmodel, from which we can also gain further insights, such as whether intra-community connections are stronger than inter-community ones (hinting at assortivity)."
   ]
  },
  {
   "cell_type": "markdown",
   "metadata": {},
   "source": [
    "## Imports, initial procedures"
   ]
  },
  {
   "cell_type": "code",
   "execution_count": 1,
   "metadata": {},
   "outputs": [],
   "source": [
    "import numpy as np\n",
    "import pandas as pd\n",
    "import matplotlib.pyplot as plt\n",
    "\n",
    "#For the analysis, we will also need the analysis functions, stored in a separate file:\n",
    "import analysis_functions\n",
    "\n",
    "#Miscellaneous\n",
    "import itertools\n",
    "\n",
    "#Get the dataset of artists:\n",
    "artists = pd.read_csv(\"data/artists.csv\").drop(columns=[\"Type\", \"Contemporary\"])#Type and contemporary are \"artificial\" columns, rather not look at it\n",
    "#I typically load the data from the URL: https://raw.githubusercontent.com/me9hanics/PainterPalette/main/datasets/artists.csv\n",
    "#   as I keep updating the file, allowing for fresh data to be used"
   ]
  },
  {
   "cell_type": "code",
   "execution_count": 2,
   "metadata": {},
   "outputs": [],
   "source": [
    "from graph_tool.all import *"
   ]
  },
  {
   "cell_type": "markdown",
   "metadata": {},
   "source": [
    "Let's see some of the data we have:"
   ]
  },
  {
   "cell_type": "code",
   "execution_count": 5,
   "metadata": {},
   "outputs": [
    {
     "data": {
      "text/html": [
       "<div>\n",
       "<style scoped>\n",
       "    .dataframe tbody tr th:only-of-type {\n",
       "        vertical-align: middle;\n",
       "    }\n",
       "\n",
       "    .dataframe tbody tr th {\n",
       "        vertical-align: top;\n",
       "    }\n",
       "\n",
       "    .dataframe thead th {\n",
       "        text-align: right;\n",
       "    }\n",
       "</style>\n",
       "<table border=\"1\" class=\"dataframe\">\n",
       "  <thead>\n",
       "    <tr style=\"text-align: right;\">\n",
       "      <th></th>\n",
       "      <th>artist</th>\n",
       "      <th>Nationality</th>\n",
       "      <th>citizenship</th>\n",
       "      <th>gender</th>\n",
       "      <th>styles</th>\n",
       "      <th>movement</th>\n",
       "      <th>Art500k_Movements</th>\n",
       "      <th>birth_place</th>\n",
       "      <th>death_place</th>\n",
       "      <th>birth_year</th>\n",
       "      <th>...</th>\n",
       "      <th>occupations</th>\n",
       "      <th>PaintingsExhibitedAt</th>\n",
       "      <th>PaintingsExhibitedAtCount</th>\n",
       "      <th>PaintingSchool</th>\n",
       "      <th>Influencedby</th>\n",
       "      <th>Influencedon</th>\n",
       "      <th>Pupils</th>\n",
       "      <th>Teachers</th>\n",
       "      <th>FriendsandCoworkers</th>\n",
       "      <th>ArtMovement</th>\n",
       "    </tr>\n",
       "  </thead>\n",
       "  <tbody>\n",
       "    <tr>\n",
       "      <th>10</th>\n",
       "      <td>Friedrich Schroder-Sonnenstern</td>\n",
       "      <td>German</td>\n",
       "      <td>Germany</td>\n",
       "      <td>male</td>\n",
       "      <td>Art Brut</td>\n",
       "      <td>Outsider art (Art brut)</td>\n",
       "      <td>{Outsider art (Art brut):10}</td>\n",
       "      <td>Sovetsk</td>\n",
       "      <td>Berlin</td>\n",
       "      <td>1892.0</td>\n",
       "      <td>...</td>\n",
       "      <td>painter, drawer</td>\n",
       "      <td>NaN</td>\n",
       "      <td>NaN</td>\n",
       "      <td>NaN</td>\n",
       "      <td>NaN</td>\n",
       "      <td>NaN</td>\n",
       "      <td>NaN</td>\n",
       "      <td>NaN</td>\n",
       "      <td>NaN</td>\n",
       "      <td>NaN</td>\n",
       "    </tr>\n",
       "    <tr>\n",
       "      <th>11</th>\n",
       "      <td>D. Jeffrey Mims</td>\n",
       "      <td>American</td>\n",
       "      <td>United States of America</td>\n",
       "      <td>male</td>\n",
       "      <td>Contemporary Realism</td>\n",
       "      <td>Classical Realism</td>\n",
       "      <td>{Classical Realism:10}</td>\n",
       "      <td>North Carolina</td>\n",
       "      <td>NaN</td>\n",
       "      <td>1954.0</td>\n",
       "      <td>...</td>\n",
       "      <td>painter, politician</td>\n",
       "      <td>NaN</td>\n",
       "      <td>NaN</td>\n",
       "      <td>NaN</td>\n",
       "      <td>NaN</td>\n",
       "      <td>NaN</td>\n",
       "      <td>NaN</td>\n",
       "      <td>NaN</td>\n",
       "      <td>NaN</td>\n",
       "      <td>NaN</td>\n",
       "    </tr>\n",
       "    <tr>\n",
       "      <th>12</th>\n",
       "      <td>Nuno Gonçalves</td>\n",
       "      <td>Portuguese</td>\n",
       "      <td>Kingdom of Portugal</td>\n",
       "      <td>male</td>\n",
       "      <td>Early Renaissance</td>\n",
       "      <td>Early Renaissance</td>\n",
       "      <td>{Early Renaissance:10}</td>\n",
       "      <td>NaN</td>\n",
       "      <td>NaN</td>\n",
       "      <td>1425.0</td>\n",
       "      <td>...</td>\n",
       "      <td>portraitist, painter, musician, researcher</td>\n",
       "      <td>Lisbon, Portugal</td>\n",
       "      <td>{Lisbon:1},{Portugal:1}</td>\n",
       "      <td>NaN</td>\n",
       "      <td>National Museum of Ancient Art (MNAA), Lisbon,...</td>\n",
       "      <td>NaN</td>\n",
       "      <td>NaN</td>\n",
       "      <td>NaN</td>\n",
       "      <td>NaN</td>\n",
       "      <td>NaN</td>\n",
       "    </tr>\n",
       "    <tr>\n",
       "      <th>13</th>\n",
       "      <td>Alexander Khvostenko-Khvostov</td>\n",
       "      <td>Russian,Ukrainian</td>\n",
       "      <td>Russian Empire</td>\n",
       "      <td>male</td>\n",
       "      <td>Art Nouveau (Modern), Constructivism, Expressi...</td>\n",
       "      <td>Avant-garde</td>\n",
       "      <td>{Avant-garde,Constructivism:21}</td>\n",
       "      <td>Borisovka, Borisovsky District, Belgorod Oblast</td>\n",
       "      <td>Kyiv</td>\n",
       "      <td>1885.0</td>\n",
       "      <td>...</td>\n",
       "      <td>visual artist, scenographer, graphic artist, p...</td>\n",
       "      <td>NaN</td>\n",
       "      <td>NaN</td>\n",
       "      <td>ARMU (Association of Revolutionary Masters of ...</td>\n",
       "      <td>NaN</td>\n",
       "      <td>NaN</td>\n",
       "      <td>NaN</td>\n",
       "      <td>Aleksandra Ekster,</td>\n",
       "      <td>Victor Palmov,David Burliuk,Oleksandr Bogomazo...</td>\n",
       "      <td>NaN</td>\n",
       "    </tr>\n",
       "    <tr>\n",
       "      <th>14</th>\n",
       "      <td>Jose Ferraz de Almeida Junior</td>\n",
       "      <td>Brazilian</td>\n",
       "      <td>Brazil</td>\n",
       "      <td>male</td>\n",
       "      <td>Academicism, Realism</td>\n",
       "      <td>Realism</td>\n",
       "      <td>{Realism:64}</td>\n",
       "      <td>Itu</td>\n",
       "      <td>Piracicaba</td>\n",
       "      <td>1850.0</td>\n",
       "      <td>...</td>\n",
       "      <td>painter</td>\n",
       "      <td>Brazil, Rio de Janeiro, Sao Paulo</td>\n",
       "      <td>{Sao Paulo:30},{Brazil:36},{Rio de Janeiro:4}</td>\n",
       "      <td>NaN</td>\n",
       "      <td>NaN</td>\n",
       "      <td>NaN</td>\n",
       "      <td>NaN</td>\n",
       "      <td>NaN</td>\n",
       "      <td>NaN</td>\n",
       "      <td>NaN</td>\n",
       "    </tr>\n",
       "  </tbody>\n",
       "</table>\n",
       "<p>5 rows × 29 columns</p>\n",
       "</div>"
      ],
      "text/plain": [
       "                            artist        Nationality  \\\n",
       "10  Friedrich Schroder-Sonnenstern             German   \n",
       "11                 D. Jeffrey Mims           American   \n",
       "12                 Nuno Gonçalves         Portuguese   \n",
       "13   Alexander Khvostenko-Khvostov  Russian,Ukrainian   \n",
       "14   Jose Ferraz de Almeida Junior          Brazilian   \n",
       "\n",
       "                 citizenship gender  \\\n",
       "10                   Germany   male   \n",
       "11  United States of America   male   \n",
       "12       Kingdom of Portugal   male   \n",
       "13            Russian Empire   male   \n",
       "14                    Brazil   male   \n",
       "\n",
       "                                               styles  \\\n",
       "10                                           Art Brut   \n",
       "11                               Contemporary Realism   \n",
       "12                                  Early Renaissance   \n",
       "13  Art Nouveau (Modern), Constructivism, Expressi...   \n",
       "14                               Academicism, Realism   \n",
       "\n",
       "                   movement                Art500k_Movements  \\\n",
       "10  Outsider art (Art brut)     {Outsider art (Art brut):10}   \n",
       "11        Classical Realism           {Classical Realism:10}   \n",
       "12        Early Renaissance           {Early Renaissance:10}   \n",
       "13              Avant-garde  {Avant-garde,Constructivism:21}   \n",
       "14                  Realism                     {Realism:64}   \n",
       "\n",
       "                                        birth_place death_place  birth_year  \\\n",
       "10                                          Sovetsk      Berlin      1892.0   \n",
       "11                                   North Carolina         NaN      1954.0   \n",
       "12                                              NaN         NaN      1425.0   \n",
       "13  Borisovka, Borisovsky District, Belgorod Oblast        Kyiv      1885.0   \n",
       "14                                              Itu  Piracicaba      1850.0   \n",
       "\n",
       "    ...                                        occupations  \\\n",
       "10  ...                                    painter, drawer   \n",
       "11  ...                                painter, politician   \n",
       "12  ...         portraitist, painter, musician, researcher   \n",
       "13  ...  visual artist, scenographer, graphic artist, p...   \n",
       "14  ...                                            painter   \n",
       "\n",
       "                 PaintingsExhibitedAt  \\\n",
       "10                                NaN   \n",
       "11                                NaN   \n",
       "12                   Lisbon, Portugal   \n",
       "13                                NaN   \n",
       "14  Brazil, Rio de Janeiro, Sao Paulo   \n",
       "\n",
       "                        PaintingsExhibitedAtCount  \\\n",
       "10                                            NaN   \n",
       "11                                            NaN   \n",
       "12                        {Lisbon:1},{Portugal:1}   \n",
       "13                                            NaN   \n",
       "14  {Sao Paulo:30},{Brazil:36},{Rio de Janeiro:4}   \n",
       "\n",
       "                                       PaintingSchool  \\\n",
       "10                                                NaN   \n",
       "11                                                NaN   \n",
       "12                                                NaN   \n",
       "13  ARMU (Association of Revolutionary Masters of ...   \n",
       "14                                                NaN   \n",
       "\n",
       "                                         Influencedby Influencedon Pupils  \\\n",
       "10                                                NaN          NaN    NaN   \n",
       "11                                                NaN          NaN    NaN   \n",
       "12  National Museum of Ancient Art (MNAA), Lisbon,...          NaN    NaN   \n",
       "13                                                NaN          NaN    NaN   \n",
       "14                                                NaN          NaN    NaN   \n",
       "\n",
       "              Teachers                                FriendsandCoworkers  \\\n",
       "10                 NaN                                                NaN   \n",
       "11                 NaN                                                NaN   \n",
       "12                 NaN                                                NaN   \n",
       "13  Aleksandra Ekster,  Victor Palmov,David Burliuk,Oleksandr Bogomazo...   \n",
       "14                 NaN                                                NaN   \n",
       "\n",
       "   ArtMovement  \n",
       "10         NaN  \n",
       "11         NaN  \n",
       "12         NaN  \n",
       "13         NaN  \n",
       "14         NaN  \n",
       "\n",
       "[5 rows x 29 columns]"
      ]
     },
     "execution_count": 5,
     "metadata": {},
     "output_type": "execute_result"
    }
   ],
   "source": [
    "artists[10:15]"
   ]
  },
  {
   "cell_type": "code",
   "execution_count": 4,
   "metadata": {},
   "outputs": [
    {
     "data": {
      "text/plain": [
       "Index(['artist', 'Nationality', 'citizenship', 'gender', 'styles', 'movement',\n",
       "       'Art500k_Movements', 'birth_place', 'death_place', 'birth_year',\n",
       "       'death_year', 'FirstYear', 'LastYear', 'wikiart_pictures_count',\n",
       "       'locations', 'locations_with_years', 'styles_extended', 'StylesCount',\n",
       "       'StylesYears', 'occupations', 'PaintingsExhibitedAt',\n",
       "       'PaintingsExhibitedAtCount', 'PaintingSchool', 'Influencedby',\n",
       "       'Influencedon', 'Pupils', 'Teachers', 'FriendsandCoworkers',\n",
       "       'ArtMovement'],\n",
       "      dtype='object')"
      ]
     },
     "execution_count": 4,
     "metadata": {},
     "output_type": "execute_result"
    }
   ],
   "source": [
    "artists.columns"
   ]
  },
  {
   "cell_type": "markdown",
   "metadata": {},
   "source": [
    "We see that years in birth/first/last year are floats instead of ints, this is because of `NaN` values and sadly cannot be changed. I tried to name columns in a way that they are self-explanatory, but it needs to be said that the difference between `movement` and `Art500k_Movements` is the first is from WikiArt data, the latter is Art500k, and `First/LastYear` means the earliest dated painting's year in the Art500k dataset.<br>\n",
    "In general, capital letter attributes account for data gathered from Art500k, while lowercase ones are from WikiArt/Wikidata.\n",
    "\n",
    "(In the future I hope to create a *JSON* format of the dataset, including paintings, hence why some attributes are stored in an unnatural way, e.g. the `Art500k_Movements` attribute has dicts stored in strings.)"
   ]
  },
  {
   "cell_type": "markdown",
   "metadata": {},
   "source": [
    "For this analysis, we need only the locations of painters"
   ]
  },
  {
   "cell_type": "markdown",
   "metadata": {},
   "source": [
    "## Creating the network:"
   ]
  },
  {
   "cell_type": "markdown",
   "metadata": {},
   "source": [
    "### Locations in time painter network:\n",
    "\n",
    "To connect painters based on their locations, I created a simple \"index\" (measure of similarity) for each pair of painters, that can be calculated the following way:\n",
    "\n",
    "\n",
    "$$ index = \\frac{{\\text{{common years (in their lifetime)}}}}{{\\text{{amount of places}}}} \\times \\text{{amount of common places}} $$\n",
    "\n",
    "\n",
    "In reality, I computed the average common years per place for two artists, and took their average.\n",
    "I connect any two painters that have this value above 0, then we filter later on over a threshold.<br>\n",
    "\n",
    "\n",
    "Calculation: <br>\n",
    "- For every common place shared, I added + 1 to common places (and because of small amount of places for many artists, I also added 0.3 bonus point for common nationality/citizenship)\n",
    "- For every common year shared, I added + 1 to common years. However, I only looked at common active years (from first working year to last, usually from age 20 to death)"
   ]
  },
  {
   "cell_type": "markdown",
   "metadata": {},
   "source": [
    "### Adding nodes and all possible edges:"
   ]
  },
  {
   "cell_type": "code",
   "execution_count": 3,
   "metadata": {},
   "outputs": [],
   "source": [
    "import ast #string to list/dict functionality is included in it"
   ]
  },
  {
   "cell_type": "markdown",
   "metadata": {},
   "source": [
    "We fill up missing time data for artists that have enough time data, just not all. This is done with `years_fixer(years)`, basically calibrates last/death year and first/birth year values if one is missing."
   ]
  },
  {
   "cell_type": "markdown",
   "metadata": {},
   "source": [
    "Precomputing (lookup speed could be faster than computing in each step, because dicts are faster than (Pandas) dataframes etc.):"
   ]
  },
  {
   "cell_type": "code",
   "execution_count": 4,
   "metadata": {},
   "outputs": [],
   "source": [
    "#Geographical / time data\n",
    "#['birth_place', 'death_place', 'Nationality','locations','locations_with_years' , 'birth_year','death_year' , 'FirstYear','LastYear','citizenship']\n",
    "\n",
    "#Artist data instances (pandas series)\n",
    "artist_data = {artist: artists[artists['artist']==artist].iloc[0] for artist in artists['artist']}\n",
    "\n",
    "#Birthyear, first active year (Art500k), last active year, death year\n",
    "years = {artist: analysis_functions.years_fixer([data['birth_year'], data['FirstYear'], data['LastYear'], data['death_year']]) for artist, data in artist_data.items()}\n",
    "\n",
    "nationalities = {artist: np.nan if type(data['Nationality']) != str\n",
    "                 else data['Nationality'].split(\",\") for artist, data in artist_data.items()}\n",
    "places = {artist: [] if pd.isnull(data['locations'])\n",
    "          else ast.literal_eval(data['locations']) for artist, data in artist_data.items()}#Literal eval to convert string to list"
   ]
  },
  {
   "cell_type": "markdown",
   "metadata": {},
   "source": [
    "Now adding the nodes and all possible edges:"
   ]
  },
  {
   "cell_type": "code",
   "execution_count": 5,
   "metadata": {},
   "outputs": [],
   "source": [
    "g = Graph(directed=False)\n",
    "\n",
    "#Edgeweight property\n",
    "weight = g.new_edge_property(\"double\")\n",
    "\n",
    "#Artist-vertex dictionary + property\n",
    "vertex_dict = {}\n",
    "artist_name = g.new_vertex_property(\"string\")\n",
    "\n",
    "for artist in artists['artist']:\n",
    "    v = g.add_vertex()\n",
    "    vertex_dict[artist] = v\n",
    "    artist_name[v] = artist\n",
    "\n",
    "for artist1, artist2 in itertools.combinations(artists['artist'], 2):\n",
    "    artist1_data = artist_data[artist1]\n",
    "    artist2_data = artist_data[artist2]\n",
    "    \n",
    "    years1 = years[artist1]\n",
    "    years2 = years[artist2]\n",
    "    if type(years1) != list or type(years2) != list: #np.nan\n",
    "        continue\n",
    "\n",
    "    birthplace1 = artist1_data[\"birth_place\"]\n",
    "    birthplace2 = artist2_data[\"birth_place\"]\n",
    "    \n",
    "    nationalities1 = nationalities[artist1]\n",
    "    nationalities2 = nationalities[artist2]\n",
    "    \n",
    "    citizenship1 = artist1_data['citizenship']\n",
    "    citizenship2 = artist2_data['citizenship']\n",
    "    \n",
    "    places1_list = places[artist1]\n",
    "    places2_list = places[artist2]\n",
    "    \n",
    "    index_val = analysis_functions.index_simple(places1_list, places2_list, years1, years2, birthplace1, birthplace2, \n",
    "                                                nationalities1, nationalities2, citizenship1, citizenship2, active_years_only=True)\n",
    "    \n",
    "    if (index_val > 0):\n",
    "        e = g.add_edge(vertex_dict[artist1], vertex_dict[artist2])\n",
    "        weight[e] = index_val\n",
    "\n",
    "#Save property map\n",
    "g.edge_properties[\"weight\"] = weight\n",
    "g.vertex_properties[\"artist_name\"] = artist_name"
   ]
  },
  {
   "cell_type": "code",
   "execution_count": 8,
   "metadata": {},
   "outputs": [],
   "source": [
    "#Save g as a graphml file\n",
    "g.save(\"painters.graphml\")"
   ]
  },
  {
   "cell_type": "markdown",
   "metadata": {},
   "source": [
    "Some stats:"
   ]
  },
  {
   "cell_type": "code",
   "execution_count": 9,
   "metadata": {},
   "outputs": [
    {
     "name": "stdout",
     "output_type": "stream",
     "text": [
      "Number of nodes:  10534\n",
      "Number of edges:  415527\n",
      "Smallest edge weight:  0.0031249999999999997\n",
      "Largest edge weight:  174.79999999999998\n"
     ]
    }
   ],
   "source": [
    "#Print number of nodes and edges\n",
    "print(\"Number of nodes: \", g.num_vertices())\n",
    "print(\"Number of edges: \", g.num_edges())\n",
    "print(\"Smallest edge weight: \", min(weight.a))\n",
    "print(\"Largest edge weight: \", max(weight.a))"
   ]
  },
  {
   "cell_type": "markdown",
   "metadata": {},
   "source": [
    "Every artist has around 80 connections (of course this would be small, but considering for an artist how many of his/her connections are really in the dataset, this average may actually be high)."
   ]
  },
  {
   "cell_type": "code",
   "execution_count": 6,
   "metadata": {},
   "outputs": [],
   "source": [
    "vertex_to_name = {value:key for key, value in vertex_dict.items()}.copy()"
   ]
  },
  {
   "cell_type": "code",
   "execution_count": 11,
   "metadata": {},
   "outputs": [
    {
     "name": "stdout",
     "output_type": "stream",
     "text": [
      "Sarah Purser and Robert Hunter : index = 174.79999999999998\n",
      "Arthur Hughes and William Shakespeare Burton : index = 147.2\n",
      "Louis Carrogis and Antoine de Marcenay de Ghuy : index = 144.89999999999998\n",
      "Felix Nadar and Nadar : index = 133.39999999999998\n",
      "Jean Baptiste Claude Odiot and Adèle Romany : index = 133.39999999999998\n",
      "Marcus Stone and William Shakespeare Burton : index = 131.1\n",
      "Antoine-François Callet and Felix Lecomte : index = 131.1\n",
      "Richard Avedon and Paul Cadmus : index = 131.1\n",
      "Jean Victor Bertin and Jean Baptiste Claude Odiot : index = 128.79999999999998\n",
      "Samuel De Wilde and James Heath : index = 128.79999999999998\n",
      "Isaac Walraven and Paulus Bramer : index = 128.79999999999998\n",
      "Corneille and Joseph Charles Marin : index = 127.925\n",
      "Anne Vallayer-Coster and Antoine-François Callet : index = 126.49999999999999\n",
      "Johan Braakensiek and Petrus Johannes Arendzen : index = 126.49999999999999\n",
      "Charles Thévenin and Jean Baptiste Claude Odiot : index = 126.49999999999999\n",
      "James Heath and John Penn : index = 126.49999999999999\n",
      "Antoine de Marcenay de Ghuy and Felix Lecomte : index = 126.49999999999999\n",
      "Jurriaan Cootwijck and Jan van Jagen : index = 126.0\n",
      "Anne Vallayer-Coster and Felix Lecomte : index = 124.19999999999999\n",
      "Jean Victor Bertin and Adèle Romany : index = 124.19999999999999\n",
      "Samuel De Wilde and John Penn : index = 121.89999999999999\n",
      "Corneille and Metzinger : index = 121.0625\n",
      "Jean Victor Bertin and Charles Thévenin : index = 119.6\n",
      "Antoine-François Callet and Antoine de Marcenay de Ghuy : index = 117.3\n",
      "Jean Baptiste Claude Odiot and Chauffourier : index = 117.3\n"
     ]
    }
   ],
   "source": [
    "# Print top 25 edge weights\n",
    "sorted_edges = sorted(g.edges(), key=lambda e: weight[e], reverse=True)\n",
    "for edge in sorted_edges[:25]:\n",
    "    print(vertex_to_name[edge.source()], \"and\", vertex_to_name[edge.target()], \": index =\", weight[edge])"
   ]
  },
  {
   "cell_type": "markdown",
   "metadata": {},
   "source": [
    "The highest value edge is caused by Robert Hunter having wrong data (two Robert Hunters were collected in one) and thus Robert Hunter in the dataset has a \"year span\" of ~280 years.<br>\n",
    "Felix Nadar and Nadar are the same person, hence why they have a high value too."
   ]
  },
  {
   "cell_type": "code",
   "execution_count": 12,
   "metadata": {},
   "outputs": [
    {
     "data": {
      "text/html": [
       "<div>\n",
       "<style scoped>\n",
       "    .dataframe tbody tr th:only-of-type {\n",
       "        vertical-align: middle;\n",
       "    }\n",
       "\n",
       "    .dataframe tbody tr th {\n",
       "        vertical-align: top;\n",
       "    }\n",
       "\n",
       "    .dataframe thead th {\n",
       "        text-align: right;\n",
       "    }\n",
       "</style>\n",
       "<table border=\"1\" class=\"dataframe\">\n",
       "  <thead>\n",
       "    <tr style=\"text-align: right;\">\n",
       "      <th></th>\n",
       "      <th>artist</th>\n",
       "      <th>Nationality</th>\n",
       "      <th>citizenship</th>\n",
       "      <th>birth_place</th>\n",
       "      <th>birth_year</th>\n",
       "      <th>FirstYear</th>\n",
       "      <th>LastYear</th>\n",
       "      <th>death_year</th>\n",
       "      <th>locations</th>\n",
       "    </tr>\n",
       "  </thead>\n",
       "  <tbody>\n",
       "    <tr>\n",
       "      <th>1769</th>\n",
       "      <td>Sarah Purser</td>\n",
       "      <td>NaN</td>\n",
       "      <td>Republic of Ireland</td>\n",
       "      <td>Dublin</td>\n",
       "      <td>1848.0</td>\n",
       "      <td>NaN</td>\n",
       "      <td>NaN</td>\n",
       "      <td>1943.0</td>\n",
       "      <td>['Dublin']</td>\n",
       "    </tr>\n",
       "    <tr>\n",
       "      <th>7417</th>\n",
       "      <td>Robert Hunter</td>\n",
       "      <td>Australian</td>\n",
       "      <td>Republic of Ireland</td>\n",
       "      <td>Dublin</td>\n",
       "      <td>1715.0</td>\n",
       "      <td>1991.0</td>\n",
       "      <td>1991.0</td>\n",
       "      <td>1803.0</td>\n",
       "      <td>['Dublin']</td>\n",
       "    </tr>\n",
       "  </tbody>\n",
       "</table>\n",
       "</div>"
      ],
      "text/plain": [
       "             artist Nationality          citizenship birth_place  birth_year  \\\n",
       "1769   Sarah Purser         NaN  Republic of Ireland      Dublin      1848.0   \n",
       "7417  Robert Hunter  Australian  Republic of Ireland      Dublin      1715.0   \n",
       "\n",
       "      FirstYear  LastYear  death_year   locations  \n",
       "1769        NaN       NaN      1943.0  ['Dublin']  \n",
       "7417     1991.0    1991.0      1803.0  ['Dublin']  "
      ]
     },
     "execution_count": 12,
     "metadata": {},
     "output_type": "execute_result"
    }
   ],
   "source": [
    "name1 = \"Sarah Purser\"; name2 = \"Robert Hunter\"\n",
    "cols = ['artist','Nationality', 'citizenship', 'birth_place', 'birth_year', 'FirstYear', 'LastYear', 'death_year',  'locations']\n",
    "artists[(artists['artist'] == name1) | (artists['artist'] == name2)][cols]"
   ]
  },
  {
   "cell_type": "markdown",
   "metadata": {},
   "source": [
    "Others so far seem to be non-counterfeit."
   ]
  },
  {
   "cell_type": "code",
   "execution_count": 13,
   "metadata": {},
   "outputs": [
    {
     "data": {
      "text/html": [
       "<div>\n",
       "<style scoped>\n",
       "    .dataframe tbody tr th:only-of-type {\n",
       "        vertical-align: middle;\n",
       "    }\n",
       "\n",
       "    .dataframe tbody tr th {\n",
       "        vertical-align: top;\n",
       "    }\n",
       "\n",
       "    .dataframe thead th {\n",
       "        text-align: right;\n",
       "    }\n",
       "</style>\n",
       "<table border=\"1\" class=\"dataframe\">\n",
       "  <thead>\n",
       "    <tr style=\"text-align: right;\">\n",
       "      <th></th>\n",
       "      <th>artist</th>\n",
       "      <th>Nationality</th>\n",
       "      <th>citizenship</th>\n",
       "      <th>birth_place</th>\n",
       "      <th>birth_year</th>\n",
       "      <th>FirstYear</th>\n",
       "      <th>LastYear</th>\n",
       "      <th>death_year</th>\n",
       "      <th>locations</th>\n",
       "    </tr>\n",
       "  </thead>\n",
       "  <tbody>\n",
       "    <tr>\n",
       "      <th>5711</th>\n",
       "      <td>Charles Thévenin</td>\n",
       "      <td>NaN</td>\n",
       "      <td>France</td>\n",
       "      <td>Paris</td>\n",
       "      <td>1764.0</td>\n",
       "      <td>NaN</td>\n",
       "      <td>NaN</td>\n",
       "      <td>1838.0</td>\n",
       "      <td>['Paris']</td>\n",
       "    </tr>\n",
       "    <tr>\n",
       "      <th>8205</th>\n",
       "      <td>Jean Baptiste Claude Odiot</td>\n",
       "      <td>NaN</td>\n",
       "      <td>France</td>\n",
       "      <td>Paris</td>\n",
       "      <td>1763.0</td>\n",
       "      <td>NaN</td>\n",
       "      <td>NaN</td>\n",
       "      <td>1850.0</td>\n",
       "      <td>['Paris']</td>\n",
       "    </tr>\n",
       "  </tbody>\n",
       "</table>\n",
       "</div>"
      ],
      "text/plain": [
       "                          artist Nationality citizenship birth_place  \\\n",
       "5711            Charles Thévenin         NaN      France       Paris   \n",
       "8205  Jean Baptiste Claude Odiot         NaN      France       Paris   \n",
       "\n",
       "      birth_year  FirstYear  LastYear  death_year  locations  \n",
       "5711      1764.0        NaN       NaN      1838.0  ['Paris']  \n",
       "8205      1763.0        NaN       NaN      1850.0  ['Paris']  "
      ]
     },
     "execution_count": 13,
     "metadata": {},
     "output_type": "execute_result"
    }
   ],
   "source": [
    "name1 = \"Jean Baptiste Claude Odiot\"; name2 = \"Charles Thévenin\"\n",
    "artists[(artists['artist'] == name1) | (artists['artist'] == name2)][cols]"
   ]
  },
  {
   "cell_type": "code",
   "execution_count": 14,
   "metadata": {},
   "outputs": [
    {
     "data": {
      "text/html": [
       "<div>\n",
       "<style scoped>\n",
       "    .dataframe tbody tr th:only-of-type {\n",
       "        vertical-align: middle;\n",
       "    }\n",
       "\n",
       "    .dataframe tbody tr th {\n",
       "        vertical-align: top;\n",
       "    }\n",
       "\n",
       "    .dataframe thead th {\n",
       "        text-align: right;\n",
       "    }\n",
       "</style>\n",
       "<table border=\"1\" class=\"dataframe\">\n",
       "  <thead>\n",
       "    <tr style=\"text-align: right;\">\n",
       "      <th></th>\n",
       "      <th>artist</th>\n",
       "      <th>Nationality</th>\n",
       "      <th>citizenship</th>\n",
       "      <th>birth_place</th>\n",
       "      <th>birth_year</th>\n",
       "      <th>FirstYear</th>\n",
       "      <th>LastYear</th>\n",
       "      <th>death_year</th>\n",
       "      <th>locations</th>\n",
       "    </tr>\n",
       "  </thead>\n",
       "  <tbody>\n",
       "    <tr>\n",
       "      <th>2414</th>\n",
       "      <td>Arthur Hughes</td>\n",
       "      <td>British</td>\n",
       "      <td>United Kingdom of Great Britain and Ireland</td>\n",
       "      <td>London</td>\n",
       "      <td>1832.0</td>\n",
       "      <td>1845.0</td>\n",
       "      <td>1908.0</td>\n",
       "      <td>1915.0</td>\n",
       "      <td>['London']</td>\n",
       "    </tr>\n",
       "    <tr>\n",
       "      <th>4397</th>\n",
       "      <td>William Shakespeare Burton</td>\n",
       "      <td>NaN</td>\n",
       "      <td>United Kingdom of Great Britain and Ireland</td>\n",
       "      <td>London</td>\n",
       "      <td>1824.0</td>\n",
       "      <td>NaN</td>\n",
       "      <td>NaN</td>\n",
       "      <td>1916.0</td>\n",
       "      <td>['London']</td>\n",
       "    </tr>\n",
       "  </tbody>\n",
       "</table>\n",
       "</div>"
      ],
      "text/plain": [
       "                          artist Nationality  \\\n",
       "2414               Arthur Hughes     British   \n",
       "4397  William Shakespeare Burton         NaN   \n",
       "\n",
       "                                      citizenship birth_place  birth_year  \\\n",
       "2414  United Kingdom of Great Britain and Ireland      London      1832.0   \n",
       "4397  United Kingdom of Great Britain and Ireland      London      1824.0   \n",
       "\n",
       "      FirstYear  LastYear  death_year   locations  \n",
       "2414     1845.0    1908.0      1915.0  ['London']  \n",
       "4397        NaN       NaN      1916.0  ['London']  "
      ]
     },
     "execution_count": 14,
     "metadata": {},
     "output_type": "execute_result"
    }
   ],
   "source": [
    "name1 = \"Arthur Hughes\"; name2 = \"William Shakespeare Burton\"\n",
    "artists[(artists['artist'] == name1) | (artists['artist'] == name2)][cols]"
   ]
  },
  {
   "cell_type": "markdown",
   "metadata": {},
   "source": [
    "Let's remove Robert Hunter and Nadar:"
   ]
  },
  {
   "cell_type": "code",
   "execution_count": 7,
   "metadata": {},
   "outputs": [],
   "source": [
    "v1 = vertex_dict[\"Robert Hunter\"]; v2 = vertex_dict[\"Nadar\"]\n",
    "g.remove_vertex(v1); g.remove_vertex(v2)\n",
    "#However, now the vertex_dict is not correct, as vertices have been removed. We need to reset it:\n",
    "vertex_dict = {} #Could have just removed the two removed vertices, and shifted everything after them\n",
    "for v in g.vertices():\n",
    "    artist_name = g.vp.artist_name[v]\n",
    "    vertex_dict[artist_name] = v\n",
    "\n",
    "vertex_to_name = {value:key for key, value in vertex_dict.items()}.copy()\n"
   ]
  },
  {
   "cell_type": "code",
   "execution_count": 8,
   "metadata": {},
   "outputs": [
    {
     "name": "stdout",
     "output_type": "stream",
     "text": [
      "Arthur Hughes and William Shakespeare Burton : index = 147.2\n",
      "Louis Carrogis and Antoine de Marcenay de Ghuy : index = 144.89999999999998\n",
      "Jean Baptiste Claude Odiot and Adèle Romany : index = 133.39999999999998\n",
      "Marcus Stone and William Shakespeare Burton : index = 131.1\n",
      "Antoine-François Callet and Felix Lecomte : index = 131.1\n",
      "Richard Avedon and Paul Cadmus : index = 131.1\n",
      "Jean Victor Bertin and Jean Baptiste Claude Odiot : index = 128.79999999999998\n",
      "Samuel De Wilde and James Heath : index = 128.79999999999998\n",
      "Isaac Walraven and Paulus Bramer : index = 128.79999999999998\n",
      "Corneille and Joseph Charles Marin : index = 127.925\n",
      "Anne Vallayer-Coster and Antoine-François Callet : index = 126.49999999999999\n",
      "Johan Braakensiek and Petrus Johannes Arendzen : index = 126.49999999999999\n",
      "Charles Thévenin and Jean Baptiste Claude Odiot : index = 126.49999999999999\n",
      "James Heath and John Penn : index = 126.49999999999999\n",
      "Antoine de Marcenay de Ghuy and Felix Lecomte : index = 126.49999999999999\n",
      "Jurriaan Cootwijck and Jan van Jagen : index = 126.0\n",
      "Anne Vallayer-Coster and Felix Lecomte : index = 124.19999999999999\n",
      "Jean Victor Bertin and Adèle Romany : index = 124.19999999999999\n",
      "Samuel De Wilde and John Penn : index = 121.89999999999999\n",
      "Corneille and Metzinger : index = 121.0625\n",
      "Jean Victor Bertin and Charles Thévenin : index = 119.6\n",
      "Antoine-François Callet and Antoine de Marcenay de Ghuy : index = 117.3\n",
      "Jean Baptiste Claude Odiot and Chauffourier : index = 117.3\n",
      "Giovanni (Nino) Costa and Giovanni Costa : index = 116.0\n",
      "Jacobus Carrenhoff and Jan Dasveldt : index = 116.0\n"
     ]
    }
   ],
   "source": [
    "# Print top 25 edge weights\n",
    "sorted_edges = sorted(g.edges(), key=lambda e: weight[e], reverse=True)\n",
    "for edge in sorted_edges[:25]:\n",
    "    print(vertex_to_name[edge.source()], \"and\", vertex_to_name[edge.target()], \": index =\", weight[edge])"
   ]
  },
  {
   "cell_type": "markdown",
   "metadata": {},
   "source": [
    "We have too many edges as all painters share at least 1 common place and 1 common active year are connected. Because we stored the index values as edge properties, we can set a threshold at which we filter the edges.<br>\n",
    "\n",
    "But what should be this threshold?<br>We cannot just pick any number, it should be something big enough that filters out most less likely connections, but small enough so we do not filter out strong connections. Let's see how the edge weights are distributed: we can create a \"percolation-like\" plot on how many edges are left if we filter out edges below a threshold.<br>\n",
    "(P.S. I tried looking at the largest component size in each step, but memory couldn't handle it, probably I didn't do something right.)"
   ]
  },
  {
   "cell_type": "markdown",
   "metadata": {},
   "source": [
    "### Selecting a threshold to filter the edges"
   ]
  },
  {
   "cell_type": "markdown",
   "metadata": {},
   "source": [
    "Let's draw the amount of edges in the graph per threshold amount. Firstly, compute the sizes:"
   ]
  },
  {
   "cell_type": "code",
   "execution_count": 9,
   "metadata": {},
   "outputs": [],
   "source": [
    "edge_weights_list = sorted([weight[e] for e in g.edges()])"
   ]
  },
  {
   "cell_type": "code",
   "execution_count": 10,
   "metadata": {},
   "outputs": [],
   "source": [
    "more_than_threshold = []\n",
    "#largest_component_sizes = []\n",
    "\n",
    "for i in np.logspace(-2.51, 2.55, 1000): #10^-2.51 is a bit less than our smallest value, 10^2.17 is a bit more than our largest value\n",
    "    more_than_threshold.append(sum(weight[e] >= i for e in g.edges()))"
   ]
  },
  {
   "cell_type": "markdown",
   "metadata": {},
   "source": [
    "We can now plot the value ove threshold:"
   ]
  },
  {
   "cell_type": "code",
   "execution_count": 132,
   "metadata": {},
   "outputs": [
    {
     "data": {
      "image/png": "[encoded data removed]",
      "text/plain": [
       "<Figure size 640x480 with 1 Axes>"
      ]
     },
     "metadata": {},
     "output_type": "display_data"
    }
   ],
   "source": [
    "from matplotlib.ticker import FuncFormatter\n",
    "\n",
    "#Just for non-exponential showcasing\n",
    "def format_yticks(tick_val, pos):\n",
    "    return int(tick_val)\n",
    "\n",
    "#Plot 1: for different threshold, how many edges would we have if we only consider edges with weight above that threshold\n",
    "plt.scatter(np.logspace(-2.51, 2.55, 1000), more_than_threshold, color='blue')\n",
    "plt.yscale('log')\n",
    "plt.xscale('log')\n",
    "plt.axvline(x=5, color='red', linestyle='--', label = 'Selected threshold')\n",
    "plt.axvspan(0.0029, 5, color = 'grey', alpha = 0.3, label = 'Supercritical regime' )\n",
    "plt.axvspan(20, 160, color = 'red', alpha = 0.3, label = 'Subcritical regime' )\n",
    "plt.axvspan(5, 20, color = 'gold', alpha = 0.3, label = 'Assumably best region for threshold' )\n",
    "plt.title('Edge count above threshold')\n",
    "plt.xlabel('Threshold')\n",
    "plt.ylabel('No. of edges')\n",
    "\n",
    "yticks = np.array([1, 10, 100, 1000, 10000, 100000, 430000])\n",
    "\n",
    "plt.yticks(yticks)\n",
    "plt.axhline(y=100000, xmin=0.0001, xmax=1, color='green', linestyle='--')\n",
    "\n",
    "formatter = FuncFormatter(format_yticks)\n",
    "plt.gca().yaxis.set_major_formatter(formatter)\n",
    "\n",
    "plt.legend()\n",
    "plt.show()"
   ]
  },
  {
   "cell_type": "markdown",
   "metadata": {},
   "source": [
    "I selected the threshold to be somewhere near the critical point, so we still have the major component not falling apart, but fairly many edges cleared out that may show weaker links between artists. To still have most connections, I choose the value to be the lowest in the \"best\" region to keep most edges."
   ]
  },
  {
   "cell_type": "code",
   "execution_count": null,
   "metadata": {},
   "outputs": [],
   "source": [
    "threshold = 5\n",
    "\n",
    "edges_to_remove = [] #This way, we don't change the graph while iterating over it\n",
    "nodes_to_remove = []\n",
    "g_copy = Graph(g)\n",
    "for e in g_copy.edges():\n",
    "    if weight[e] < threshold:\n",
    "        edges_to_remove.append(e)\n",
    "for e in edges_to_remove:\n",
    "    g_copy.remove_edge(e)\n",
    "\n",
    "#Isolated vertices deletion\n",
    "for v in g_copy.vertices():\n",
    "    if v.out_degree() == 0:\n",
    "        nodes_to_remove.append(v)\n",
    "for v in nodes_to_remove:\n",
    "    try:\n",
    "        g_copy.remove_vertex(v) #Not sure why we get invalid nodes here\n",
    "    except:\n",
    "        continue"
   ]
  },
  {
   "cell_type": "markdown",
   "metadata": {},
   "source": [
    "I still had somehow 0 degree nodes (which will cause issues later), so here I decided to just select the biggest component for analysis:"
   ]
  },
  {
   "cell_type": "code",
   "execution_count": 57,
   "metadata": {},
   "outputs": [
    {
     "name": "stdout",
     "output_type": "stream",
     "text": [
      "Number of nodes in the subgraph:  2959\n",
      "Number of edges in the subgraph:  65374\n"
     ]
    }
   ],
   "source": [
    "g_biggest_component = Graph(g_copy)\n",
    "g_biggest_component.set_vertex_filter(None)  # Clear any existing vertex filter\n",
    "g_biggest_component.set_vertex_filter(label_largest_component(g_biggest_component))  # Keep only the largest connected component\n",
    "\n",
    "print(\"Number of nodes in the subgraph: \", g_biggest_component.num_vertices()); print(\"Number of edges in the subgraph: \", g_biggest_component.num_edges())\n"
   ]
  },
  {
   "cell_type": "markdown",
   "metadata": {},
   "source": [
    "From 10000 artists with ~100000 connections, we still kept around 65000 connections between the remaining 3000 artists by selecting the largest component, average degree around 43, may be a little unrealisticly high (note again that these artists have on average 43 connections just among them, not all their connections ever)\n",
    "\n",
    "It also has an interpretation: only those artists are kept, who on average have spent at least 5 years at places where both of them lived/worked, and then look at the biggest component."
   ]
  },
  {
   "cell_type": "markdown",
   "metadata": {},
   "source": [
    "## Degree distribution"
   ]
  },
  {
   "cell_type": "code",
   "execution_count": null,
   "metadata": {},
   "outputs": [],
   "source": [
    "!pip install powerlaw\n",
    "import powerlaw as pwl"
   ]
  },
  {
   "cell_type": "code",
   "execution_count": 60,
   "metadata": {},
   "outputs": [],
   "source": [
    "#Get degrees first\n",
    "degrees = g_biggest_component.get_total_degrees(g_biggest_component.get_vertices())"
   ]
  },
  {
   "cell_type": "code",
   "execution_count": 166,
   "metadata": {},
   "outputs": [
    {
     "name": "stdout",
     "output_type": "stream",
     "text": [
      "Calculating best minimal value for power law fit\n",
      "xmin progress: 99%\r"
     ]
    },
    {
     "data": {
      "image/png": "[encoded data removed]",
      "text/plain": [
       "<Figure size 1000x1000 with 1 Axes>"
      ]
     },
     "metadata": {},
     "output_type": "display_data"
    }
   ],
   "source": [
    "analysis_functions.plot_deg_dist_fit_log_single_no_fit(degrees)"
   ]
  },
  {
   "cell_type": "code",
   "execution_count": 47,
   "metadata": {},
   "outputs": [
    {
     "name": "stdout",
     "output_type": "stream",
     "text": [
      "Calculating best minimal value for power law fit\n",
      "Alpha: 7.623570539664112\n",
      "K-S distance: 0.039369302121944894\n"
     ]
    }
   ],
   "source": [
    "fit_function = pwl.Fit(degrees)\n",
    "\n",
    "print(f'Alpha: {fit_function.power_law.alpha}')\n",
    "print(f'KS-distance: {fit_function.power_law.D}')"
   ]
  },
  {
   "cell_type": "markdown",
   "metadata": {},
   "source": [
    "Kolmogorov-Smirnov distance is low, which indicates a fairly good fit."
   ]
  },
  {
   "cell_type": "markdown",
   "metadata": {},
   "source": [
    "## Community detection"
   ]
  },
  {
   "cell_type": "markdown",
   "metadata": {},
   "source": [
    "To find communiti"
   ]
  },
  {
   "cell_type": "code",
   "execution_count": 71,
   "metadata": {},
   "outputs": [],
   "source": [
    "state = minimize_nested_blockmodel_dl(g_biggest_component, state_args=dict(recs=[g_biggest_component.ep.weight], rec_types=[\"real-exponential\"]))"
   ]
  },
  {
   "cell_type": "code",
   "execution_count": 72,
   "metadata": {},
   "outputs": [
    {
     "data": {
      "text/plain": [
       "<BlockState object with 2959 blocks (85 nonempty), degree-corrected, with 1 edge covariate, for graph <Graph object, undirected, with 2959 vertices and 65374 edges, 1 internal vertex property, 1 internal edge property, edges filtered by (<EdgePropertyMap object with value type 'bool', for Graph 0x7e8b2650d8d0, at 0x7e8b2569b110>, False), vertices filtered by (<VertexPropertyMap object with value type 'bool', for Graph 0x7e8b2650d8d0, at 0x7e8b256109d0>, False), at 0x7e8b2650d8d0>, at 0x7e8df1b96210>"
      ]
     },
     "execution_count": 72,
     "metadata": {},
     "output_type": "execute_result"
    }
   ],
   "source": [
    "state.levels[0]"
   ]
  },
  {
   "cell_type": "markdown",
   "metadata": {},
   "source": [
    "We have 85 communities of the 3000 artists, which we will further analyze. Before that, it's interesting how they are connected:"
   ]
  },
  {
   "cell_type": "markdown",
   "metadata": {},
   "source": [
    "**NOTE**: Output was removed to save memory, I saved it in the image subfolder as a .png"
   ]
  },
  {
   "cell_type": "code",
   "execution_count": 94,
   "metadata": {},
   "outputs": [],
   "source": [
    "state.draw(edge_color=prop_to_size(g_biggest_component.ep.weight, power=1, log=True),\n",
    "           eorder=g_biggest_component.ep.weight, # edge ordering is important!\n",
    "           edge_pen_width=2,\n",
    "          output = \"image/painters_nested_blockmodel.png\");"
   ]
  },
  {
   "cell_type": "markdown",
   "metadata": {},
   "source": [
    "\n",
    "\n",
    "(*Note during the presentation*: -Toma: There is one small community very much interconnected, might be interesting to look at.<br>\n",
    "-Tiago: Probably coloring nodes and not edges would have been more meaningful.)"
   ]
  },
  {
   "cell_type": "markdown",
   "metadata": {},
   "source": [
    "## Observations from communities"
   ]
  },
  {
   "cell_type": "markdown",
   "metadata": {},
   "source": [
    "We look into communities:"
   ]
  },
  {
   "cell_type": "code",
   "execution_count": null,
   "metadata": {},
   "outputs": [],
   "source": [
    "# Create a look up table of block ids and included artist names\n",
    "block_to_artist = {}\n",
    "for v in g_biggest_component.vertices():\n",
    "    block_id = b[v]\n",
    "    artist = g_biggest_component.vertex_properties['artist_name'][v]\n",
    "    if block_id not in block_to_artist:\n",
    "        block_to_artist[block_id] = [] # Create the list, put the artist in it below\n",
    "    block_to_artist[block_id].append(artist)"
   ]
  },
  {
   "cell_type": "markdown",
   "metadata": {},
   "source": [
    "Let's see the global trends in the dataset first:"
   ]
  },
  {
   "cell_type": "code",
   "execution_count": 135,
   "metadata": {},
   "outputs": [
    {
     "data": {
      "text/plain": [
       "(Nationality\n",
       " American    0.149137\n",
       " French      0.094495\n",
       " British     0.081758\n",
       " Name: proportion, dtype: float64,\n",
       " citizenship\n",
       " United States of America    0.150207\n",
       " France                      0.132678\n",
       " Spain                       0.043608\n",
       " Name: proportion, dtype: float64)"
      ]
     },
     "execution_count": 135,
     "metadata": {},
     "output_type": "execute_result"
    }
   ],
   "source": [
    " analysis_functions.get_column_counts_adjusted(artists, 'Nationality')[0:3], analysis_functions.get_column_counts_adjusted(artists, 'citizenship')[0:3]"
   ]
  },
  {
   "cell_type": "code",
   "execution_count": 88,
   "metadata": {},
   "outputs": [
    {
     "data": {
      "text/plain": [
       "(11.73601433406331, 1818.2762943334692, 54.729940680611925)"
      ]
     },
     "execution_count": 88,
     "metadata": {},
     "output_type": "execute_result"
    }
   ],
   "source": [
    "analysis_functions.get_female_percentage(artists), analysis_functions.get_column_average(artists, 'birth_year'), analysis_functions.get_column_average(artists, 'wikiart_pictures_count')"
   ]
  },
  {
   "cell_type": "markdown",
   "metadata": {},
   "source": [
    "Now let's build a dataframe of averages, counts from blocks (functions included in the analysis_functions):"
   ]
  },
  {
   "cell_type": "code",
   "execution_count": 102,
   "metadata": {},
   "outputs": [],
   "source": [
    "blocks_nationality = []; blocks_citizenship = []; blocks_gender = []; blocks_birth_year = []; blocks_wikiart_pictures_count = []; blocks_styles = []; blocks_movement = []; blocks_size = []\n",
    "for block_id, artists_in_block in block_to_artist.items():\n",
    "    artists_in_block_df = artists[artists['artist'].isin(artists_in_block)]\n",
    "    blocks_nationality.append(analysis_functions.get_column_counts_adjusted(artists_in_block_df, 'Nationality'))\n",
    "    blocks_citizenship.append(analysis_functions.get_column_counts_adjusted(artists_in_block_df, 'citizenship'))\n",
    "    blocks_gender.append(analysis_functions.get_female_percentage(artists_in_block_df))\n",
    "    blocks_birth_year.append(analysis_functions.get_column_average(artists_in_block_df, 'birth_year'))\n",
    "    blocks_wikiart_pictures_count.append(analysis_functions.get_column_average(artists_in_block_df, 'wikiart_pictures_count'))\n",
    "    blocks_styles.append(analysis_functions.get_column_counts_adjusted(artists_in_block_df, 'styles'))\n",
    "    blocks_movement.append(analysis_functions.get_column_counts_adjusted(artists_in_block_df, 'movement'))\n",
    "    #Add amount of artists in block to the dataframe\n",
    "    blocks_size.append(len(artists_in_block))\n",
    "#DF\n",
    "block_data = pd.DataFrame({'Size':blocks_size, 'Nationality': blocks_nationality, 'citizenship': blocks_citizenship, 'gender': blocks_gender, 'birth_year': blocks_birth_year, 'wikiart_pictures_count': blocks_wikiart_pictures_count, 'styles': blocks_styles, 'movement': blocks_movement})\n"
   ]
  },
  {
   "cell_type": "code",
   "execution_count": 103,
   "metadata": {},
   "outputs": [
    {
     "data": {
      "text/html": [
       "<div>\n",
       "<style scoped>\n",
       "    .dataframe tbody tr th:only-of-type {\n",
       "        vertical-align: middle;\n",
       "    }\n",
       "\n",
       "    .dataframe tbody tr th {\n",
       "        vertical-align: top;\n",
       "    }\n",
       "\n",
       "    .dataframe thead th {\n",
       "        text-align: right;\n",
       "    }\n",
       "</style>\n",
       "<table border=\"1\" class=\"dataframe\">\n",
       "  <thead>\n",
       "    <tr style=\"text-align: right;\">\n",
       "      <th></th>\n",
       "      <th>Size</th>\n",
       "      <th>Nationality</th>\n",
       "      <th>citizenship</th>\n",
       "      <th>gender</th>\n",
       "      <th>birth_year</th>\n",
       "      <th>wikiart_pictures_count</th>\n",
       "      <th>styles</th>\n",
       "      <th>movement</th>\n",
       "    </tr>\n",
       "  </thead>\n",
       "  <tbody>\n",
       "    <tr>\n",
       "      <th>76</th>\n",
       "      <td>41</td>\n",
       "      <td>Nationality\n",
       "Italian    0.764706\n",
       "Flemish    0.2...</td>\n",
       "      <td>citizenship\n",
       "Republic of Florence      0.409091...</td>\n",
       "      <td>0.000000</td>\n",
       "      <td>1413.675000</td>\n",
       "      <td>59.000000</td>\n",
       "      <td>styles\n",
       "Early Renaissance, Unknown             ...</td>\n",
       "      <td>movement\n",
       "Early Renaissance       0.736842\n",
       "Nort...</td>\n",
       "    </tr>\n",
       "    <tr>\n",
       "      <th>81</th>\n",
       "      <td>30</td>\n",
       "      <td>Nationality\n",
       "German    0.666667\n",
       "Dutch     0.333...</td>\n",
       "      <td>citizenship\n",
       "Germany                      0.296...</td>\n",
       "      <td>0.000000</td>\n",
       "      <td>1505.266667</td>\n",
       "      <td>95.600000</td>\n",
       "      <td>styles\n",
       "Northern Renaissance, Unknown          ...</td>\n",
       "      <td>movement\n",
       "Northern Renaissance    1.0\n",
       "Name: pro...</td>\n",
       "    </tr>\n",
       "    <tr>\n",
       "      <th>67</th>\n",
       "      <td>17</td>\n",
       "      <td>Nationality\n",
       "Flemish    1.0\n",
       "Name: proportion, d...</td>\n",
       "      <td>citizenship\n",
       "Habsburg Netherlands    0.3750\n",
       "Net...</td>\n",
       "      <td>0.000000</td>\n",
       "      <td>1556.411765</td>\n",
       "      <td>47.500000</td>\n",
       "      <td>styles\n",
       "Baroque                                ...</td>\n",
       "      <td>movement\n",
       "Baroque    1.0\n",
       "Name: proportion, dtyp...</td>\n",
       "    </tr>\n",
       "    <tr>\n",
       "      <th>75</th>\n",
       "      <td>70</td>\n",
       "      <td>Nationality\n",
       "Italian               0.814815\n",
       "Fle...</td>\n",
       "      <td>citizenship\n",
       "Republic of Venice        0.44\n",
       "Rep...</td>\n",
       "      <td>0.000000</td>\n",
       "      <td>1564.042857</td>\n",
       "      <td>106.259259</td>\n",
       "      <td>styles\n",
       "High Renaissance                       ...</td>\n",
       "      <td>movement\n",
       "High Renaissance        0.666667\n",
       "Nort...</td>\n",
       "    </tr>\n",
       "    <tr>\n",
       "      <th>24</th>\n",
       "      <td>51</td>\n",
       "      <td>Nationality\n",
       "Italian               0.642857\n",
       "Fre...</td>\n",
       "      <td>citizenship\n",
       "Republic of Venice            0.16...</td>\n",
       "      <td>7.843137</td>\n",
       "      <td>1573.019608</td>\n",
       "      <td>49.187500</td>\n",
       "      <td>styles\n",
       "Baroque, Unknown                  0.250...</td>\n",
       "      <td>movement\n",
       "Baroque                 0.9375\n",
       "Northe...</td>\n",
       "    </tr>\n",
       "    <tr>\n",
       "      <th>...</th>\n",
       "      <td>...</td>\n",
       "      <td>...</td>\n",
       "      <td>...</td>\n",
       "      <td>...</td>\n",
       "      <td>...</td>\n",
       "      <td>...</td>\n",
       "      <td>...</td>\n",
       "      <td>...</td>\n",
       "    </tr>\n",
       "    <tr>\n",
       "      <th>31</th>\n",
       "      <td>54</td>\n",
       "      <td>Nationality\n",
       "American              0.952381\n",
       "Ame...</td>\n",
       "      <td>citizenship\n",
       "United States of America    0.9811...</td>\n",
       "      <td>26.415094</td>\n",
       "      <td>1931.629630</td>\n",
       "      <td>33.152174</td>\n",
       "      <td>styles\n",
       "Minimalism                             ...</td>\n",
       "      <td>movement\n",
       "Abstract Expressionism        0.13043...</td>\n",
       "    </tr>\n",
       "    <tr>\n",
       "      <th>27</th>\n",
       "      <td>61</td>\n",
       "      <td>Nationality\n",
       "British                       0.55...</td>\n",
       "      <td>citizenship\n",
       "United Kingdom                    ...</td>\n",
       "      <td>14.754098</td>\n",
       "      <td>1934.114754</td>\n",
       "      <td>38.170213</td>\n",
       "      <td>styles\n",
       "Post-Minimalism                        ...</td>\n",
       "      <td>movement\n",
       "Abstract Expressionism          0.127...</td>\n",
       "    </tr>\n",
       "    <tr>\n",
       "      <th>45</th>\n",
       "      <td>16</td>\n",
       "      <td>Nationality\n",
       "American             0.857143\n",
       "Leba...</td>\n",
       "      <td>citizenship\n",
       "United States of America    1.0\n",
       "Na...</td>\n",
       "      <td>18.750000</td>\n",
       "      <td>1935.750000</td>\n",
       "      <td>26.916667</td>\n",
       "      <td>styles\n",
       "Minimalism                             ...</td>\n",
       "      <td>movement\n",
       "Conceptual Art                0.25000...</td>\n",
       "    </tr>\n",
       "    <tr>\n",
       "      <th>44</th>\n",
       "      <td>57</td>\n",
       "      <td>Nationality\n",
       "American                 0.681818\n",
       "...</td>\n",
       "      <td>citizenship\n",
       "United States of America    0.7551...</td>\n",
       "      <td>17.543860</td>\n",
       "      <td>1938.035088</td>\n",
       "      <td>27.386364</td>\n",
       "      <td>styles\n",
       "Conceptual Art                         ...</td>\n",
       "      <td>movement\n",
       "Conceptual Art                       ...</td>\n",
       "    </tr>\n",
       "    <tr>\n",
       "      <th>33</th>\n",
       "      <td>43</td>\n",
       "      <td>Nationality\n",
       "American                   0.54166...</td>\n",
       "      <td>citizenship\n",
       "United States of America    0.6052...</td>\n",
       "      <td>25.581395</td>\n",
       "      <td>1938.166667</td>\n",
       "      <td>38.062500</td>\n",
       "      <td>styles\n",
       "Pop Art                                ...</td>\n",
       "      <td>movement\n",
       "Abstract Expressionism        0.15625...</td>\n",
       "    </tr>\n",
       "  </tbody>\n",
       "</table>\n",
       "<p>85 rows × 8 columns</p>\n",
       "</div>"
      ],
      "text/plain": [
       "    Size                                        Nationality  \\\n",
       "76    41  Nationality\n",
       "Italian    0.764706\n",
       "Flemish    0.2...   \n",
       "81    30  Nationality\n",
       "German    0.666667\n",
       "Dutch     0.333...   \n",
       "67    17  Nationality\n",
       "Flemish    1.0\n",
       "Name: proportion, d...   \n",
       "75    70  Nationality\n",
       "Italian               0.814815\n",
       "Fle...   \n",
       "24    51  Nationality\n",
       "Italian               0.642857\n",
       "Fre...   \n",
       "..   ...                                                ...   \n",
       "31    54  Nationality\n",
       "American              0.952381\n",
       "Ame...   \n",
       "27    61  Nationality\n",
       "British                       0.55...   \n",
       "45    16  Nationality\n",
       "American             0.857143\n",
       "Leba...   \n",
       "44    57  Nationality\n",
       "American                 0.681818\n",
       "...   \n",
       "33    43  Nationality\n",
       "American                   0.54166...   \n",
       "\n",
       "                                          citizenship     gender   birth_year  \\\n",
       "76  citizenship\n",
       "Republic of Florence      0.409091...   0.000000  1413.675000   \n",
       "81  citizenship\n",
       "Germany                      0.296...   0.000000  1505.266667   \n",
       "67  citizenship\n",
       "Habsburg Netherlands    0.3750\n",
       "Net...   0.000000  1556.411765   \n",
       "75  citizenship\n",
       "Republic of Venice        0.44\n",
       "Rep...   0.000000  1564.042857   \n",
       "24  citizenship\n",
       "Republic of Venice            0.16...   7.843137  1573.019608   \n",
       "..                                                ...        ...          ...   \n",
       "31  citizenship\n",
       "United States of America    0.9811...  26.415094  1931.629630   \n",
       "27  citizenship\n",
       "United Kingdom                    ...  14.754098  1934.114754   \n",
       "45  citizenship\n",
       "United States of America    1.0\n",
       "Na...  18.750000  1935.750000   \n",
       "44  citizenship\n",
       "United States of America    0.7551...  17.543860  1938.035088   \n",
       "33  citizenship\n",
       "United States of America    0.6052...  25.581395  1938.166667   \n",
       "\n",
       "    wikiart_pictures_count                                             styles  \\\n",
       "76               59.000000  styles\n",
       "Early Renaissance, Unknown             ...   \n",
       "81               95.600000  styles\n",
       "Northern Renaissance, Unknown          ...   \n",
       "67               47.500000  styles\n",
       "Baroque                                ...   \n",
       "75              106.259259  styles\n",
       "High Renaissance                       ...   \n",
       "24               49.187500  styles\n",
       "Baroque, Unknown                  0.250...   \n",
       "..                     ...                                                ...   \n",
       "31               33.152174  styles\n",
       "Minimalism                             ...   \n",
       "27               38.170213  styles\n",
       "Post-Minimalism                        ...   \n",
       "45               26.916667  styles\n",
       "Minimalism                             ...   \n",
       "44               27.386364  styles\n",
       "Conceptual Art                         ...   \n",
       "33               38.062500  styles\n",
       "Pop Art                                ...   \n",
       "\n",
       "                                             movement  \n",
       "76  movement\n",
       "Early Renaissance       0.736842\n",
       "Nort...  \n",
       "81  movement\n",
       "Northern Renaissance    1.0\n",
       "Name: pro...  \n",
       "67  movement\n",
       "Baroque    1.0\n",
       "Name: proportion, dtyp...  \n",
       "75  movement\n",
       "High Renaissance        0.666667\n",
       "Nort...  \n",
       "24  movement\n",
       "Baroque                 0.9375\n",
       "Northe...  \n",
       "..                                                ...  \n",
       "31  movement\n",
       "Abstract Expressionism        0.13043...  \n",
       "27  movement\n",
       "Abstract Expressionism          0.127...  \n",
       "45  movement\n",
       "Conceptual Art                0.25000...  \n",
       "44  movement\n",
       "Conceptual Art                       ...  \n",
       "33  movement\n",
       "Abstract Expressionism        0.15625...  \n",
       "\n",
       "[85 rows x 8 columns]"
      ]
     },
     "execution_count": 103,
     "metadata": {},
     "output_type": "execute_result"
    }
   ],
   "source": [
    "block_data.sort_values(by='birth_year', ascending=True)"
   ]
  },
  {
   "cell_type": "markdown",
   "metadata": {},
   "source": [
    "We can see that the artists inside groups share nationality very much. What can we say about comparable differences between communities? Do they differ much? \n",
    "\n",
    "### Gender representation"
   ]
  },
  {
   "cell_type": "code",
   "execution_count": 170,
   "metadata": {},
   "outputs": [
    {
     "data": {
      "image/png": "[encoded data removed]",
      "text/plain": [
       "<Figure size 640x480 with 1 Axes>"
      ]
     },
     "metadata": {},
     "output_type": "display_data"
    }
   ],
   "source": [
    "import matplotlib.pyplot as plt\n",
    "\n",
    "plt.plot(block_data['gender'].sort_values(ascending=False).values)\n",
    "plt.ylabel('Percentage of female artists')\n",
    "plt.xlabel('Block number (sorted by percentage)')\n",
    "#Add ticks, with percentages\n",
    "plt.xticks([0, 43, 85])\n",
    "plt.yticks([0,5,10,15,20,25,31], [\"0%\",\"5%\",\"10%\",\"15%\",\"20%\",\"25%\",\"31%\"])\n",
    "plt.axhline(y=11, color='r', linestyle='--', label = 'Global average')\n",
    "plt.legend()\n",
    "plt.text(3, 25, 'Highest % group: Feminist Art also included as style\\n\\n    Groups at the higher have mostly 19th-20th century artists');\n",
    "plt.text(62, 5, '0% groups:\\n- 21 of them\\n -earlier centuries');"
   ]
  },
  {
   "cell_type": "markdown",
   "metadata": {},
   "source": [
    "Looking more into it, seems like lower percentages seem to come from earlier centuries.\n",
    "\n",
    "Let's try to \"prove\" that:"
   ]
  },
  {
   "cell_type": "code",
   "execution_count": 169,
   "metadata": {},
   "outputs": [
    {
     "data": {
      "image/png": "[encoded data removed]",
      "text/plain": [
       "<Figure size 640x480 with 1 Axes>"
      ]
     },
     "metadata": {},
     "output_type": "display_data"
    }
   ],
   "source": [
    "import seaborn as sns\n",
    "import numpy as np\n",
    "\n",
    "#Simplify to centuries\n",
    "block_data['century'] = (block_data['birth_year'] // 100 + 1).astype(int)\n",
    "\n",
    "# Create a boxplot\n",
    "sns.boxplot(x='century', y='gender', data=block_data)\n",
    "\n",
    "# Set plot labels\n",
    "plt.xlabel('Century')\n",
    "plt.ylabel('Percentage of females')\n",
    "plt.title('Gender distribution by century')\n",
    "\n",
    "# Set x-axis ticks\n",
    "plt.xticks(np.arange(0, 6), ['15th', '16th', '17th', '18th', '19th', '20th'])\n",
    "plt.yticks([0,5,10,15,20,25,31], [\"0%\",\"5%\",\"10%\",\"15%\",\"20%\",\"25%\",\"31%\"])\n",
    "\n",
    "plt.show()"
   ]
  },
  {
   "cell_type": "markdown",
   "metadata": {},
   "source": [
    "Indeed, we see this upward going trend."
   ]
  },
  {
   "cell_type": "markdown",
   "metadata": {},
   "source": [
    "### WikiArt pictures count: average per artist, plotted for all communities\n",
    "\n",
    "This is a not bad measure of success, at least for 19th-20th century artists. (Older centuries have less paintings reserved.)"
   ]
  },
  {
   "cell_type": "code",
   "execution_count": 173,
   "metadata": {},
   "outputs": [
    {
     "data": {
      "image/png": "[encoded data removed]",
      "text/plain": [
       "<Figure size 640x480 with 1 Axes>"
      ]
     },
     "metadata": {},
     "output_type": "display_data"
    }
   ],
   "source": [
    "#Plot wikiart pictures count\n",
    "plt.bar(range(len(block_data['wikiart_pictures_count'])), block_data['wikiart_pictures_count'].sort_values(ascending=False).values)\n",
    "plt.ylabel('Average WikiArt pictures per artist')\n",
    "plt.xlabel('Block number (sorted by pictures count)')\n",
    "plt.xticks([0, 43, 85])\n",
    "plt.text(5, 300, 'Top 2:\\n - French and British Romanticism\\n - Impressionism (Europe, America)',);\n",
    "plt.text(45, 60, 'Lowest:\\n - 80% Dutch Baroque painters ',);\n",
    "plt.title(\"Number of pictures found on WikiArt per artist\");\n"
   ]
  }
 ],
 "metadata": {
  "kernelspec": {
   "display_name": "Python 3 (ipykernel)",
   "language": "python",
   "name": "python3"
  },
  "language_info": {
   "codemirror_mode": {
    "name": "ipython",
    "version": 3
   },
   "file_extension": ".py",
   "mimetype": "text/x-python",
   "name": "python",
   "nbconvert_exporter": "python",
   "pygments_lexer": "ipython3",
   "version": "3.11.8"
  }
 },
 "nbformat": 4,
 "nbformat_minor": 4
}
